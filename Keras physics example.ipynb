{
 "cells": [
  {
   "cell_type": "markdown",
   "metadata": {},
   "source": [
    "# Keras Classification Example"
   ]
  },
  {
   "cell_type": "markdown",
   "metadata": {},
   "source": [
    "### Here is an example notebook on how to classify a physics signal and background using keras"
   ]
  },
  {
   "cell_type": "markdown",
   "metadata": {},
   "source": [
    "### Our signal here is the higgs decay to 2 e and 2 mu and our background is zz -> 2e 2 mu. This is quite an easy example to classify(cutbased will suffice) if you use the 4l invariant mass variable(higgs will peak at 125 and zz will peak at 180 GeV). But to make our problem non trivial , we will not be using the 4 l mass variable or any variations of it. "
   ]
  },
  {
   "cell_type": "markdown",
   "metadata": {},
   "source": [
    "## Loading data "
   ]
  },
  {
   "cell_type": "markdown",
   "metadata": {},
   "source": [
    "Our first task will be to load our input signal and background output files(which are root ntuples)into a format that could that could be readable(pandas dataframe or numpy array) by our machine learning packages. For this we will be using uproot3. uproot is a cool new tool to read and write root files into numpy and dataframe formats,It has many other great functionalities. see https://masonproffitt.github.io/uproot-tutorial/aio.html for a tutorial on how to get started with uproot. "
   ]
  },
  {
   "cell_type": "code",
   "execution_count": 1,
   "metadata": {},
   "outputs": [],
   "source": [
    "%matplotlib inline\n",
    "\n",
    "import random\n",
    "\n",
    "import pandas as pd\n",
    "import numpy as np\n",
    "import matplotlib as mpl\n",
    "import matplotlib.pyplot as plt"
   ]
  },
  {
   "cell_type": "code",
   "execution_count": 2,
   "metadata": {},
   "outputs": [],
   "source": [
    "import uproot3\n"
   ]
  },
  {
   "cell_type": "markdown",
   "metadata": {},
   "source": [
    "Now lets load our signal file"
   ]
  },
  {
   "cell_type": "code",
   "execution_count": 3,
   "metadata": {},
   "outputs": [],
   "source": [
    "signal = uproot3.open(\"test_signal.root\")"
   ]
  },
  {
   "cell_type": "markdown",
   "metadata": {},
   "source": [
    "Now lets see whats inside this file"
   ]
  },
  {
   "cell_type": "code",
   "execution_count": 4,
   "metadata": {},
   "outputs": [
    {
     "data": {
      "text/plain": [
       "[b'Events;1']"
      ]
     },
     "execution_count": 4,
     "metadata": {},
     "output_type": "execute_result"
    }
   ],
   "source": [
    "signal.keys()"
   ]
  },
  {
   "cell_type": "markdown",
   "metadata": {},
   "source": [
    "We can see that there is one key: “Events”. This doesn’t tell us what kind of object it refers to, though. ROOT files can contain many different types of objects, including subdirectories. The following function provides a way to inspect the types of each item:"
   ]
  },
  {
   "cell_type": "code",
   "execution_count": 5,
   "metadata": {},
   "outputs": [
    {
     "data": {
      "text/plain": [
       "[(b'Events;1', 'TTree')]"
      ]
     },
     "execution_count": 5,
     "metadata": {},
     "output_type": "execute_result"
    }
   ],
   "source": [
    "signal.classnames()"
   ]
  },
  {
   "cell_type": "markdown",
   "metadata": {},
   "source": [
    "We can see that Events is a root TTree object. lets load it and see whats inside"
   ]
  },
  {
   "cell_type": "code",
   "execution_count": 6,
   "metadata": {},
   "outputs": [
    {
     "data": {
      "text/plain": [
       "<TTree b'Events' at 0x7ff88cb80910>"
      ]
     },
     "execution_count": 6,
     "metadata": {},
     "output_type": "execute_result"
    }
   ],
   "source": [
    "signal['Events']"
   ]
  },
  {
   "cell_type": "code",
   "execution_count": 7,
   "metadata": {},
   "outputs": [
    {
     "data": {
      "text/plain": [
       "[b'Muon_pt_1',\n",
       " b'Muon_pt_2',\n",
       " b'Electron_pt_1',\n",
       " b'Electron_pt_2',\n",
       " b'dPhim1e1',\n",
       " b'dPhim1e2',\n",
       " b'dPhim2e1',\n",
       " b'dPhim2e2',\n",
       " b'Electron_eta_1',\n",
       " b'Electron_eta_2',\n",
       " b'Muon_eta_1',\n",
       " b'Muon_eta_2',\n",
       " b'dPhim1m2',\n",
       " b'dPhie1e2']"
      ]
     },
     "execution_count": 7,
     "metadata": {},
     "output_type": "execute_result"
    }
   ],
   "source": [
    "signal['Events'].keys()"
   ]
  },
  {
   "cell_type": "markdown",
   "metadata": {},
   "source": [
    "So now we can see that the file events contain all the variables that we are going to use for our classification problem. If these steps are clear to you , you can now directly load the Events tree as our signal and inspect the keys."
   ]
  },
  {
   "cell_type": "code",
   "execution_count": 8,
   "metadata": {},
   "outputs": [],
   "source": [
    "signal = uproot3.open(\"test_signal.root\")[\"Events\"]"
   ]
  },
  {
   "cell_type": "code",
   "execution_count": 9,
   "metadata": {},
   "outputs": [
    {
     "data": {
      "text/plain": [
       "[b'Muon_pt_1',\n",
       " b'Muon_pt_2',\n",
       " b'Electron_pt_1',\n",
       " b'Electron_pt_2',\n",
       " b'dPhim1e1',\n",
       " b'dPhim1e2',\n",
       " b'dPhim2e1',\n",
       " b'dPhim2e2',\n",
       " b'Electron_eta_1',\n",
       " b'Electron_eta_2',\n",
       " b'Muon_eta_1',\n",
       " b'Muon_eta_2',\n",
       " b'dPhim1m2',\n",
       " b'dPhie1e2']"
      ]
     },
     "execution_count": 9,
     "metadata": {},
     "output_type": "execute_result"
    }
   ],
   "source": [
    "signal.keys()"
   ]
  },
  {
   "cell_type": "code",
   "execution_count": 10,
   "metadata": {},
   "outputs": [],
   "source": [
    "#df[\"Muon_pt_1\"] > 1000\n"
   ]
  },
  {
   "cell_type": "code",
   "execution_count": 11,
   "metadata": {},
   "outputs": [],
   "source": [
    "#df = df[df[\"Muon_pt_2\"] < 10000].reset_index(drop=True)"
   ]
  },
  {
   "cell_type": "code",
   "execution_count": 12,
   "metadata": {},
   "outputs": [],
   "source": [
    "#"
   ]
  },
  {
   "cell_type": "markdown",
   "metadata": {},
   "source": [
    "### Now let us convert our signal into a pandas dataframe. "
   ]
  },
  {
   "cell_type": "code",
   "execution_count": 13,
   "metadata": {},
   "outputs": [],
   "source": [
    "df_signal = signal.pandas.df([\"Muon_*\",\"Elec*\",\"dPhi*\"])"
   ]
  },
  {
   "cell_type": "markdown",
   "metadata": {},
   "source": [
    "Lets see what this looks like"
   ]
  },
  {
   "cell_type": "code",
   "execution_count": 14,
   "metadata": {},
   "outputs": [
    {
     "data": {
      "text/html": [
       "<div>\n",
       "<style scoped>\n",
       "    .dataframe tbody tr th:only-of-type {\n",
       "        vertical-align: middle;\n",
       "    }\n",
       "\n",
       "    .dataframe tbody tr th {\n",
       "        vertical-align: top;\n",
       "    }\n",
       "\n",
       "    .dataframe thead th {\n",
       "        text-align: right;\n",
       "    }\n",
       "</style>\n",
       "<table border=\"1\" class=\"dataframe\">\n",
       "  <thead>\n",
       "    <tr style=\"text-align: right;\">\n",
       "      <th></th>\n",
       "      <th>Muon_pt_1</th>\n",
       "      <th>Muon_pt_2</th>\n",
       "      <th>Muon_eta_1</th>\n",
       "      <th>Muon_eta_2</th>\n",
       "      <th>Electron_pt_1</th>\n",
       "      <th>Electron_pt_2</th>\n",
       "      <th>Electron_eta_1</th>\n",
       "      <th>Electron_eta_2</th>\n",
       "      <th>dPhim1e1</th>\n",
       "      <th>dPhim1e2</th>\n",
       "      <th>dPhim2e1</th>\n",
       "      <th>dPhim2e2</th>\n",
       "      <th>dPhim1m2</th>\n",
       "      <th>dPhie1e2</th>\n",
       "    </tr>\n",
       "    <tr>\n",
       "      <th>entry</th>\n",
       "      <th></th>\n",
       "      <th></th>\n",
       "      <th></th>\n",
       "      <th></th>\n",
       "      <th></th>\n",
       "      <th></th>\n",
       "      <th></th>\n",
       "      <th></th>\n",
       "      <th></th>\n",
       "      <th></th>\n",
       "      <th></th>\n",
       "      <th></th>\n",
       "      <th></th>\n",
       "      <th></th>\n",
       "    </tr>\n",
       "  </thead>\n",
       "  <tbody>\n",
       "    <tr>\n",
       "      <th>0</th>\n",
       "      <td>17.382437</td>\n",
       "      <td>13.238400</td>\n",
       "      <td>-0.287998</td>\n",
       "      <td>-2.505396</td>\n",
       "      <td>44.744175</td>\n",
       "      <td>58.942070</td>\n",
       "      <td>-0.440202</td>\n",
       "      <td>-1.174093</td>\n",
       "      <td>0.859931</td>\n",
       "      <td>2.731727</td>\n",
       "      <td>-4.039423</td>\n",
       "      <td>-2.167627</td>\n",
       "      <td>4.899354</td>\n",
       "      <td>1.871796</td>\n",
       "    </tr>\n",
       "    <tr>\n",
       "      <th>1</th>\n",
       "      <td>50.051613</td>\n",
       "      <td>41.024353</td>\n",
       "      <td>0.437299</td>\n",
       "      <td>0.728018</td>\n",
       "      <td>15.959146</td>\n",
       "      <td>5.622648</td>\n",
       "      <td>1.032079</td>\n",
       "      <td>0.413351</td>\n",
       "      <td>0.237984</td>\n",
       "      <td>-3.473453</td>\n",
       "      <td>3.290306</td>\n",
       "      <td>-0.421131</td>\n",
       "      <td>-3.052322</td>\n",
       "      <td>-3.711437</td>\n",
       "    </tr>\n",
       "    <tr>\n",
       "      <th>2</th>\n",
       "      <td>24.702271</td>\n",
       "      <td>41.462658</td>\n",
       "      <td>1.642034</td>\n",
       "      <td>-0.360378</td>\n",
       "      <td>5.042018</td>\n",
       "      <td>7.994947</td>\n",
       "      <td>-1.505692</td>\n",
       "      <td>1.702696</td>\n",
       "      <td>-0.474739</td>\n",
       "      <td>2.842660</td>\n",
       "      <td>-1.923548</td>\n",
       "      <td>1.393850</td>\n",
       "      <td>1.448810</td>\n",
       "      <td>3.317399</td>\n",
       "    </tr>\n",
       "    <tr>\n",
       "      <th>3</th>\n",
       "      <td>55.392330</td>\n",
       "      <td>32.569691</td>\n",
       "      <td>1.291607</td>\n",
       "      <td>0.371377</td>\n",
       "      <td>16.479095</td>\n",
       "      <td>14.080798</td>\n",
       "      <td>0.810022</td>\n",
       "      <td>1.582687</td>\n",
       "      <td>3.420421</td>\n",
       "      <td>-1.231367</td>\n",
       "      <td>0.012445</td>\n",
       "      <td>-4.639343</td>\n",
       "      <td>3.407976</td>\n",
       "      <td>-4.651788</td>\n",
       "    </tr>\n",
       "    <tr>\n",
       "      <th>4</th>\n",
       "      <td>37.216637</td>\n",
       "      <td>54.203739</td>\n",
       "      <td>-0.496596</td>\n",
       "      <td>-0.919289</td>\n",
       "      <td>14.535382</td>\n",
       "      <td>17.012287</td>\n",
       "      <td>-0.030889</td>\n",
       "      <td>-0.248747</td>\n",
       "      <td>-5.228100</td>\n",
       "      <td>-2.087943</td>\n",
       "      <td>-2.184106</td>\n",
       "      <td>0.956050</td>\n",
       "      <td>-3.043994</td>\n",
       "      <td>3.140156</td>\n",
       "    </tr>\n",
       "    <tr>\n",
       "      <th>...</th>\n",
       "      <td>...</td>\n",
       "      <td>...</td>\n",
       "      <td>...</td>\n",
       "      <td>...</td>\n",
       "      <td>...</td>\n",
       "      <td>...</td>\n",
       "      <td>...</td>\n",
       "      <td>...</td>\n",
       "      <td>...</td>\n",
       "      <td>...</td>\n",
       "      <td>...</td>\n",
       "      <td>...</td>\n",
       "      <td>...</td>\n",
       "      <td>...</td>\n",
       "    </tr>\n",
       "    <tr>\n",
       "      <th>22833</th>\n",
       "      <td>15.948185</td>\n",
       "      <td>10.853278</td>\n",
       "      <td>-1.940742</td>\n",
       "      <td>-0.911976</td>\n",
       "      <td>34.428360</td>\n",
       "      <td>56.252823</td>\n",
       "      <td>-0.706417</td>\n",
       "      <td>-1.421783</td>\n",
       "      <td>-2.957020</td>\n",
       "      <td>0.655409</td>\n",
       "      <td>-0.654651</td>\n",
       "      <td>2.957778</td>\n",
       "      <td>-2.302369</td>\n",
       "      <td>3.612429</td>\n",
       "    </tr>\n",
       "    <tr>\n",
       "      <th>22834</th>\n",
       "      <td>3.165293</td>\n",
       "      <td>7.369295</td>\n",
       "      <td>-1.285632</td>\n",
       "      <td>1.799208</td>\n",
       "      <td>27.072086</td>\n",
       "      <td>28.327864</td>\n",
       "      <td>-0.561875</td>\n",
       "      <td>0.056757</td>\n",
       "      <td>2.343978</td>\n",
       "      <td>-1.643248</td>\n",
       "      <td>5.134007</td>\n",
       "      <td>1.146782</td>\n",
       "      <td>-2.790029</td>\n",
       "      <td>-3.987226</td>\n",
       "    </tr>\n",
       "    <tr>\n",
       "      <th>22835</th>\n",
       "      <td>33.588539</td>\n",
       "      <td>35.164211</td>\n",
       "      <td>1.337266</td>\n",
       "      <td>-0.353645</td>\n",
       "      <td>14.531511</td>\n",
       "      <td>12.232145</td>\n",
       "      <td>0.601156</td>\n",
       "      <td>1.065312</td>\n",
       "      <td>2.422990</td>\n",
       "      <td>0.937451</td>\n",
       "      <td>-1.290169</td>\n",
       "      <td>-2.775708</td>\n",
       "      <td>3.713160</td>\n",
       "      <td>-1.485539</td>\n",
       "    </tr>\n",
       "    <tr>\n",
       "      <th>22836</th>\n",
       "      <td>59.003090</td>\n",
       "      <td>21.311920</td>\n",
       "      <td>0.721381</td>\n",
       "      <td>-0.760873</td>\n",
       "      <td>5.186389</td>\n",
       "      <td>14.721363</td>\n",
       "      <td>1.473370</td>\n",
       "      <td>2.097379</td>\n",
       "      <td>-3.682039</td>\n",
       "      <td>-3.463252</td>\n",
       "      <td>-0.078191</td>\n",
       "      <td>0.140596</td>\n",
       "      <td>-3.603848</td>\n",
       "      <td>0.218787</td>\n",
       "    </tr>\n",
       "    <tr>\n",
       "      <th>22837</th>\n",
       "      <td>42.957253</td>\n",
       "      <td>40.313286</td>\n",
       "      <td>-1.185059</td>\n",
       "      <td>-0.275353</td>\n",
       "      <td>6.656038</td>\n",
       "      <td>8.904449</td>\n",
       "      <td>-1.569683</td>\n",
       "      <td>-1.631087</td>\n",
       "      <td>-0.804590</td>\n",
       "      <td>1.120924</td>\n",
       "      <td>2.476253</td>\n",
       "      <td>4.401766</td>\n",
       "      <td>-3.280842</td>\n",
       "      <td>1.925513</td>\n",
       "    </tr>\n",
       "  </tbody>\n",
       "</table>\n",
       "<p>22838 rows × 14 columns</p>\n",
       "</div>"
      ],
      "text/plain": [
       "       Muon_pt_1  Muon_pt_2  Muon_eta_1  Muon_eta_2  Electron_pt_1  \\\n",
       "entry                                                                \n",
       "0      17.382437  13.238400   -0.287998   -2.505396      44.744175   \n",
       "1      50.051613  41.024353    0.437299    0.728018      15.959146   \n",
       "2      24.702271  41.462658    1.642034   -0.360378       5.042018   \n",
       "3      55.392330  32.569691    1.291607    0.371377      16.479095   \n",
       "4      37.216637  54.203739   -0.496596   -0.919289      14.535382   \n",
       "...          ...        ...         ...         ...            ...   \n",
       "22833  15.948185  10.853278   -1.940742   -0.911976      34.428360   \n",
       "22834   3.165293   7.369295   -1.285632    1.799208      27.072086   \n",
       "22835  33.588539  35.164211    1.337266   -0.353645      14.531511   \n",
       "22836  59.003090  21.311920    0.721381   -0.760873       5.186389   \n",
       "22837  42.957253  40.313286   -1.185059   -0.275353       6.656038   \n",
       "\n",
       "       Electron_pt_2  Electron_eta_1  Electron_eta_2  dPhim1e1  dPhim1e2  \\\n",
       "entry                                                                      \n",
       "0          58.942070       -0.440202       -1.174093  0.859931  2.731727   \n",
       "1           5.622648        1.032079        0.413351  0.237984 -3.473453   \n",
       "2           7.994947       -1.505692        1.702696 -0.474739  2.842660   \n",
       "3          14.080798        0.810022        1.582687  3.420421 -1.231367   \n",
       "4          17.012287       -0.030889       -0.248747 -5.228100 -2.087943   \n",
       "...              ...             ...             ...       ...       ...   \n",
       "22833      56.252823       -0.706417       -1.421783 -2.957020  0.655409   \n",
       "22834      28.327864       -0.561875        0.056757  2.343978 -1.643248   \n",
       "22835      12.232145        0.601156        1.065312  2.422990  0.937451   \n",
       "22836      14.721363        1.473370        2.097379 -3.682039 -3.463252   \n",
       "22837       8.904449       -1.569683       -1.631087 -0.804590  1.120924   \n",
       "\n",
       "       dPhim2e1  dPhim2e2  dPhim1m2  dPhie1e2  \n",
       "entry                                          \n",
       "0     -4.039423 -2.167627  4.899354  1.871796  \n",
       "1      3.290306 -0.421131 -3.052322 -3.711437  \n",
       "2     -1.923548  1.393850  1.448810  3.317399  \n",
       "3      0.012445 -4.639343  3.407976 -4.651788  \n",
       "4     -2.184106  0.956050 -3.043994  3.140156  \n",
       "...         ...       ...       ...       ...  \n",
       "22833 -0.654651  2.957778 -2.302369  3.612429  \n",
       "22834  5.134007  1.146782 -2.790029 -3.987226  \n",
       "22835 -1.290169 -2.775708  3.713160 -1.485539  \n",
       "22836 -0.078191  0.140596 -3.603848  0.218787  \n",
       "22837  2.476253  4.401766 -3.280842  1.925513  \n",
       "\n",
       "[22838 rows x 14 columns]"
      ]
     },
     "execution_count": 14,
     "metadata": {},
     "output_type": "execute_result"
    }
   ],
   "source": [
    "df_signal"
   ]
  },
  {
   "cell_type": "markdown",
   "metadata": {},
   "source": [
    "###  Now we have converted our root tree object(\"Events\") into a beautiful pandas dataframe with all the variables and event number. "
   ]
  },
  {
   "cell_type": "markdown",
   "metadata": {},
   "source": [
    "Lets get a summary of the variables"
   ]
  },
  {
   "cell_type": "code",
   "execution_count": 15,
   "metadata": {},
   "outputs": [
    {
     "data": {
      "text/html": [
       "<div>\n",
       "<style scoped>\n",
       "    .dataframe tbody tr th:only-of-type {\n",
       "        vertical-align: middle;\n",
       "    }\n",
       "\n",
       "    .dataframe tbody tr th {\n",
       "        vertical-align: top;\n",
       "    }\n",
       "\n",
       "    .dataframe thead th {\n",
       "        text-align: right;\n",
       "    }\n",
       "</style>\n",
       "<table border=\"1\" class=\"dataframe\">\n",
       "  <thead>\n",
       "    <tr style=\"text-align: right;\">\n",
       "      <th></th>\n",
       "      <th>Muon_pt_1</th>\n",
       "      <th>Muon_pt_2</th>\n",
       "      <th>Muon_eta_1</th>\n",
       "      <th>Muon_eta_2</th>\n",
       "      <th>Electron_pt_1</th>\n",
       "      <th>Electron_pt_2</th>\n",
       "      <th>Electron_eta_1</th>\n",
       "      <th>Electron_eta_2</th>\n",
       "      <th>dPhim1e1</th>\n",
       "      <th>dPhim1e2</th>\n",
       "      <th>dPhim2e1</th>\n",
       "      <th>dPhim2e2</th>\n",
       "      <th>dPhim1m2</th>\n",
       "      <th>dPhie1e2</th>\n",
       "    </tr>\n",
       "  </thead>\n",
       "  <tbody>\n",
       "    <tr>\n",
       "      <th>count</th>\n",
       "      <td>22838.000000</td>\n",
       "      <td>22838.000000</td>\n",
       "      <td>22838.000000</td>\n",
       "      <td>22838.000000</td>\n",
       "      <td>22838.000000</td>\n",
       "      <td>22838.000000</td>\n",
       "      <td>22838.000000</td>\n",
       "      <td>22838.000000</td>\n",
       "      <td>22838.000000</td>\n",
       "      <td>22838.000000</td>\n",
       "      <td>22838.000000</td>\n",
       "      <td>22838.000000</td>\n",
       "      <td>22838.000000</td>\n",
       "      <td>22838.000000</td>\n",
       "    </tr>\n",
       "    <tr>\n",
       "      <th>mean</th>\n",
       "      <td>25.416214</td>\n",
       "      <td>25.855974</td>\n",
       "      <td>-0.060940</td>\n",
       "      <td>0.044795</td>\n",
       "      <td>27.828810</td>\n",
       "      <td>27.024527</td>\n",
       "      <td>-0.000032</td>\n",
       "      <td>-0.010853</td>\n",
       "      <td>-0.198926</td>\n",
       "      <td>-0.173602</td>\n",
       "      <td>0.163665</td>\n",
       "      <td>0.188989</td>\n",
       "      <td>-0.362591</td>\n",
       "      <td>0.025324</td>\n",
       "    </tr>\n",
       "    <tr>\n",
       "      <th>std</th>\n",
       "      <td>20.175367</td>\n",
       "      <td>20.824627</td>\n",
       "      <td>1.362005</td>\n",
       "      <td>0.970735</td>\n",
       "      <td>19.637846</td>\n",
       "      <td>20.664013</td>\n",
       "      <td>1.050572</td>\n",
       "      <td>1.287739</td>\n",
       "      <td>2.602722</td>\n",
       "      <td>2.565944</td>\n",
       "      <td>2.573571</td>\n",
       "      <td>2.569384</td>\n",
       "      <td>2.700615</td>\n",
       "      <td>2.793236</td>\n",
       "    </tr>\n",
       "    <tr>\n",
       "      <th>min</th>\n",
       "      <td>3.001633</td>\n",
       "      <td>3.001062</td>\n",
       "      <td>-2.514854</td>\n",
       "      <td>-5.712338</td>\n",
       "      <td>5.002392</td>\n",
       "      <td>5.000097</td>\n",
       "      <td>-2.655886</td>\n",
       "      <td>-2.643006</td>\n",
       "      <td>-6.253033</td>\n",
       "      <td>-6.245044</td>\n",
       "      <td>-6.240183</td>\n",
       "      <td>-6.180146</td>\n",
       "      <td>-6.250220</td>\n",
       "      <td>-6.153236</td>\n",
       "    </tr>\n",
       "    <tr>\n",
       "      <th>25%</th>\n",
       "      <td>11.204918</td>\n",
       "      <td>11.130641</td>\n",
       "      <td>-1.273503</td>\n",
       "      <td>-0.618434</td>\n",
       "      <td>12.814576</td>\n",
       "      <td>11.535241</td>\n",
       "      <td>-0.747693</td>\n",
       "      <td>-1.010554</td>\n",
       "      <td>-2.173883</td>\n",
       "      <td>-2.112524</td>\n",
       "      <td>-1.717286</td>\n",
       "      <td>-1.695825</td>\n",
       "      <td>-2.733001</td>\n",
       "      <td>-2.617669</td>\n",
       "    </tr>\n",
       "    <tr>\n",
       "      <th>50%</th>\n",
       "      <td>20.172464</td>\n",
       "      <td>20.315402</td>\n",
       "      <td>-0.103297</td>\n",
       "      <td>0.047480</td>\n",
       "      <td>23.230130</td>\n",
       "      <td>21.772771</td>\n",
       "      <td>-0.005856</td>\n",
       "      <td>-0.017412</td>\n",
       "      <td>-0.222699</td>\n",
       "      <td>-0.170336</td>\n",
       "      <td>0.163635</td>\n",
       "      <td>0.188287</td>\n",
       "      <td>-0.610807</td>\n",
       "      <td>0.065766</td>\n",
       "    </tr>\n",
       "    <tr>\n",
       "      <th>75%</th>\n",
       "      <td>35.780353</td>\n",
       "      <td>36.665321</td>\n",
       "      <td>1.189701</td>\n",
       "      <td>0.704413</td>\n",
       "      <td>39.005567</td>\n",
       "      <td>38.129457</td>\n",
       "      <td>0.738066</td>\n",
       "      <td>0.987355</td>\n",
       "      <td>1.696562</td>\n",
       "      <td>1.689047</td>\n",
       "      <td>2.126038</td>\n",
       "      <td>2.144181</td>\n",
       "      <td>2.089295</td>\n",
       "      <td>2.664267</td>\n",
       "    </tr>\n",
       "    <tr>\n",
       "      <th>max</th>\n",
       "      <td>650.410767</td>\n",
       "      <td>433.609955</td>\n",
       "      <td>2.491697</td>\n",
       "      <td>3.152850</td>\n",
       "      <td>269.401245</td>\n",
       "      <td>302.362274</td>\n",
       "      <td>2.638832</td>\n",
       "      <td>2.621549</td>\n",
       "      <td>6.223757</td>\n",
       "      <td>6.254736</td>\n",
       "      <td>6.259244</td>\n",
       "      <td>6.223243</td>\n",
       "      <td>6.225653</td>\n",
       "      <td>6.197930</td>\n",
       "    </tr>\n",
       "  </tbody>\n",
       "</table>\n",
       "</div>"
      ],
      "text/plain": [
       "          Muon_pt_1     Muon_pt_2    Muon_eta_1    Muon_eta_2  Electron_pt_1  \\\n",
       "count  22838.000000  22838.000000  22838.000000  22838.000000   22838.000000   \n",
       "mean      25.416214     25.855974     -0.060940      0.044795      27.828810   \n",
       "std       20.175367     20.824627      1.362005      0.970735      19.637846   \n",
       "min        3.001633      3.001062     -2.514854     -5.712338       5.002392   \n",
       "25%       11.204918     11.130641     -1.273503     -0.618434      12.814576   \n",
       "50%       20.172464     20.315402     -0.103297      0.047480      23.230130   \n",
       "75%       35.780353     36.665321      1.189701      0.704413      39.005567   \n",
       "max      650.410767    433.609955      2.491697      3.152850     269.401245   \n",
       "\n",
       "       Electron_pt_2  Electron_eta_1  Electron_eta_2      dPhim1e1  \\\n",
       "count   22838.000000    22838.000000    22838.000000  22838.000000   \n",
       "mean       27.024527       -0.000032       -0.010853     -0.198926   \n",
       "std        20.664013        1.050572        1.287739      2.602722   \n",
       "min         5.000097       -2.655886       -2.643006     -6.253033   \n",
       "25%        11.535241       -0.747693       -1.010554     -2.173883   \n",
       "50%        21.772771       -0.005856       -0.017412     -0.222699   \n",
       "75%        38.129457        0.738066        0.987355      1.696562   \n",
       "max       302.362274        2.638832        2.621549      6.223757   \n",
       "\n",
       "           dPhim1e2      dPhim2e1      dPhim2e2      dPhim1m2      dPhie1e2  \n",
       "count  22838.000000  22838.000000  22838.000000  22838.000000  22838.000000  \n",
       "mean      -0.173602      0.163665      0.188989     -0.362591      0.025324  \n",
       "std        2.565944      2.573571      2.569384      2.700615      2.793236  \n",
       "min       -6.245044     -6.240183     -6.180146     -6.250220     -6.153236  \n",
       "25%       -2.112524     -1.717286     -1.695825     -2.733001     -2.617669  \n",
       "50%       -0.170336      0.163635      0.188287     -0.610807      0.065766  \n",
       "75%        1.689047      2.126038      2.144181      2.089295      2.664267  \n",
       "max        6.254736      6.259244      6.223243      6.225653      6.197930  "
      ]
     },
     "execution_count": 15,
     "metadata": {},
     "output_type": "execute_result"
    }
   ],
   "source": [
    "df_signal.describe()"
   ]
  },
  {
   "cell_type": "markdown",
   "metadata": {},
   "source": [
    "### Now lets do the same for background"
   ]
  },
  {
   "cell_type": "code",
   "execution_count": 16,
   "metadata": {},
   "outputs": [],
   "source": [
    "background = uproot3.open(\"test_background.root\")[\"Events\"]"
   ]
  },
  {
   "cell_type": "code",
   "execution_count": 17,
   "metadata": {},
   "outputs": [],
   "source": [
    "df_background = background.pandas.df([\"Mu*\",\"Ele*\",\"dPhi*\"])"
   ]
  },
  {
   "cell_type": "code",
   "execution_count": 18,
   "metadata": {},
   "outputs": [
    {
     "data": {
      "text/html": [
       "<div>\n",
       "<style scoped>\n",
       "    .dataframe tbody tr th:only-of-type {\n",
       "        vertical-align: middle;\n",
       "    }\n",
       "\n",
       "    .dataframe tbody tr th {\n",
       "        vertical-align: top;\n",
       "    }\n",
       "\n",
       "    .dataframe thead th {\n",
       "        text-align: right;\n",
       "    }\n",
       "</style>\n",
       "<table border=\"1\" class=\"dataframe\">\n",
       "  <thead>\n",
       "    <tr style=\"text-align: right;\">\n",
       "      <th></th>\n",
       "      <th>Muon_pt_1</th>\n",
       "      <th>Muon_pt_2</th>\n",
       "      <th>Muon_eta_1</th>\n",
       "      <th>Muon_eta_2</th>\n",
       "      <th>Electron_pt_1</th>\n",
       "      <th>Electron_pt_2</th>\n",
       "      <th>Electron_eta_1</th>\n",
       "      <th>Electron_eta_2</th>\n",
       "      <th>dPhim1e1</th>\n",
       "      <th>dPhim1e2</th>\n",
       "      <th>dPhim2e1</th>\n",
       "      <th>dPhim2e2</th>\n",
       "      <th>dPhim1m2</th>\n",
       "      <th>dPhie1e2</th>\n",
       "    </tr>\n",
       "  </thead>\n",
       "  <tbody>\n",
       "    <tr>\n",
       "      <th>count</th>\n",
       "      <td>131384.000000</td>\n",
       "      <td>131384.000000</td>\n",
       "      <td>131384.000000</td>\n",
       "      <td>131384.000000</td>\n",
       "      <td>131384.000000</td>\n",
       "      <td>131384.000000</td>\n",
       "      <td>131384.000000</td>\n",
       "      <td>131384.000000</td>\n",
       "      <td>131384.000000</td>\n",
       "      <td>131384.000000</td>\n",
       "      <td>131384.000000</td>\n",
       "      <td>131384.000000</td>\n",
       "      <td>131384.000000</td>\n",
       "      <td>131384.000000</td>\n",
       "    </tr>\n",
       "    <tr>\n",
       "      <th>mean</th>\n",
       "      <td>28.916658</td>\n",
       "      <td>28.885248</td>\n",
       "      <td>-0.042382</td>\n",
       "      <td>0.038036</td>\n",
       "      <td>31.968208</td>\n",
       "      <td>32.504227</td>\n",
       "      <td>-0.003966</td>\n",
       "      <td>0.004052</td>\n",
       "      <td>-0.167672</td>\n",
       "      <td>-0.138969</td>\n",
       "      <td>0.098707</td>\n",
       "      <td>0.127411</td>\n",
       "      <td>-0.266380</td>\n",
       "      <td>0.028703</td>\n",
       "    </tr>\n",
       "    <tr>\n",
       "      <th>std</th>\n",
       "      <td>29.118998</td>\n",
       "      <td>64.375618</td>\n",
       "      <td>1.391695</td>\n",
       "      <td>1.048513</td>\n",
       "      <td>26.931452</td>\n",
       "      <td>28.713568</td>\n",
       "      <td>1.124356</td>\n",
       "      <td>1.333367</td>\n",
       "      <td>2.654061</td>\n",
       "      <td>2.655553</td>\n",
       "      <td>2.617733</td>\n",
       "      <td>2.626016</td>\n",
       "      <td>2.548422</td>\n",
       "      <td>2.715887</td>\n",
       "    </tr>\n",
       "    <tr>\n",
       "      <th>min</th>\n",
       "      <td>3.000166</td>\n",
       "      <td>3.000157</td>\n",
       "      <td>-5.696682</td>\n",
       "      <td>-4.053686</td>\n",
       "      <td>5.000047</td>\n",
       "      <td>5.000191</td>\n",
       "      <td>-2.676136</td>\n",
       "      <td>-2.654118</td>\n",
       "      <td>-6.260075</td>\n",
       "      <td>-6.277071</td>\n",
       "      <td>-6.261344</td>\n",
       "      <td>-6.261574</td>\n",
       "      <td>-6.277163</td>\n",
       "      <td>-6.262017</td>\n",
       "    </tr>\n",
       "    <tr>\n",
       "      <th>25%</th>\n",
       "      <td>9.061773</td>\n",
       "      <td>7.824332</td>\n",
       "      <td>-1.294580</td>\n",
       "      <td>-0.699660</td>\n",
       "      <td>13.454914</td>\n",
       "      <td>12.663032</td>\n",
       "      <td>-0.821138</td>\n",
       "      <td>-1.072187</td>\n",
       "      <td>-2.412053</td>\n",
       "      <td>-2.396323</td>\n",
       "      <td>-2.036037</td>\n",
       "      <td>-2.049057</td>\n",
       "      <td>-2.377479</td>\n",
       "      <td>-2.546266</td>\n",
       "    </tr>\n",
       "    <tr>\n",
       "      <th>50%</th>\n",
       "      <td>20.908807</td>\n",
       "      <td>19.833357</td>\n",
       "      <td>-0.073071</td>\n",
       "      <td>0.044886</td>\n",
       "      <td>26.475896</td>\n",
       "      <td>26.501304</td>\n",
       "      <td>-0.000442</td>\n",
       "      <td>0.002865</td>\n",
       "      <td>-0.158305</td>\n",
       "      <td>-0.128462</td>\n",
       "      <td>0.076944</td>\n",
       "      <td>0.103246</td>\n",
       "      <td>-0.288105</td>\n",
       "      <td>0.034173</td>\n",
       "    </tr>\n",
       "    <tr>\n",
       "      <th>75%</th>\n",
       "      <td>39.534593</td>\n",
       "      <td>39.247039</td>\n",
       "      <td>1.236784</td>\n",
       "      <td>0.777958</td>\n",
       "      <td>41.454762</td>\n",
       "      <td>42.257981</td>\n",
       "      <td>0.813468</td>\n",
       "      <td>1.086277</td>\n",
       "      <td>2.000439</td>\n",
       "      <td>2.071269</td>\n",
       "      <td>2.280156</td>\n",
       "      <td>2.363670</td>\n",
       "      <td>1.581809</td>\n",
       "      <td>2.605508</td>\n",
       "    </tr>\n",
       "    <tr>\n",
       "      <th>max</th>\n",
       "      <td>1897.867920</td>\n",
       "      <td>16244.873047</td>\n",
       "      <td>2.510320</td>\n",
       "      <td>5.592937</td>\n",
       "      <td>598.043518</td>\n",
       "      <td>677.865173</td>\n",
       "      <td>2.664995</td>\n",
       "      <td>2.669436</td>\n",
       "      <td>6.268476</td>\n",
       "      <td>6.246774</td>\n",
       "      <td>6.275122</td>\n",
       "      <td>6.254691</td>\n",
       "      <td>6.257235</td>\n",
       "      <td>6.264532</td>\n",
       "    </tr>\n",
       "  </tbody>\n",
       "</table>\n",
       "</div>"
      ],
      "text/plain": [
       "           Muon_pt_1      Muon_pt_2     Muon_eta_1     Muon_eta_2  \\\n",
       "count  131384.000000  131384.000000  131384.000000  131384.000000   \n",
       "mean       28.916658      28.885248      -0.042382       0.038036   \n",
       "std        29.118998      64.375618       1.391695       1.048513   \n",
       "min         3.000166       3.000157      -5.696682      -4.053686   \n",
       "25%         9.061773       7.824332      -1.294580      -0.699660   \n",
       "50%        20.908807      19.833357      -0.073071       0.044886   \n",
       "75%        39.534593      39.247039       1.236784       0.777958   \n",
       "max      1897.867920   16244.873047       2.510320       5.592937   \n",
       "\n",
       "       Electron_pt_1  Electron_pt_2  Electron_eta_1  Electron_eta_2  \\\n",
       "count  131384.000000  131384.000000   131384.000000   131384.000000   \n",
       "mean       31.968208      32.504227       -0.003966        0.004052   \n",
       "std        26.931452      28.713568        1.124356        1.333367   \n",
       "min         5.000047       5.000191       -2.676136       -2.654118   \n",
       "25%        13.454914      12.663032       -0.821138       -1.072187   \n",
       "50%        26.475896      26.501304       -0.000442        0.002865   \n",
       "75%        41.454762      42.257981        0.813468        1.086277   \n",
       "max       598.043518     677.865173        2.664995        2.669436   \n",
       "\n",
       "            dPhim1e1       dPhim1e2       dPhim2e1       dPhim2e2  \\\n",
       "count  131384.000000  131384.000000  131384.000000  131384.000000   \n",
       "mean       -0.167672      -0.138969       0.098707       0.127411   \n",
       "std         2.654061       2.655553       2.617733       2.626016   \n",
       "min        -6.260075      -6.277071      -6.261344      -6.261574   \n",
       "25%        -2.412053      -2.396323      -2.036037      -2.049057   \n",
       "50%        -0.158305      -0.128462       0.076944       0.103246   \n",
       "75%         2.000439       2.071269       2.280156       2.363670   \n",
       "max         6.268476       6.246774       6.275122       6.254691   \n",
       "\n",
       "            dPhim1m2       dPhie1e2  \n",
       "count  131384.000000  131384.000000  \n",
       "mean       -0.266380       0.028703  \n",
       "std         2.548422       2.715887  \n",
       "min        -6.277163      -6.262017  \n",
       "25%        -2.377479      -2.546266  \n",
       "50%        -0.288105       0.034173  \n",
       "75%         1.581809       2.605508  \n",
       "max         6.257235       6.264532  "
      ]
     },
     "execution_count": 18,
     "metadata": {},
     "output_type": "execute_result"
    }
   ],
   "source": [
    "df_background.describe()"
   ]
  },
  {
   "cell_type": "markdown",
   "metadata": {},
   "source": [
    "### We can see that there are about 22k signal and 131k background events. The number of background events outnumber the signal events by a factor of 6. This is called class imbalance and you will come across them many times in your physics analyses. We will see how to deal with this later in the notebook"
   ]
  },
  {
   "cell_type": "markdown",
   "metadata": {},
   "source": [
    " So now have our signal and background events in seperate dataframes(df_signal and df_background). Lets assign a target value 1 for signal and 0 for background and combine them to a single dataframe."
   ]
  },
  {
   "cell_type": "code",
   "execution_count": 19,
   "metadata": {},
   "outputs": [],
   "source": [
    "df_signal=df_signal.assign(y=1)\n",
    "df_background =df_background.assign(y=0)"
   ]
  },
  {
   "cell_type": "code",
   "execution_count": 20,
   "metadata": {},
   "outputs": [],
   "source": [
    "df_list = [df_signal,df_background]"
   ]
  },
  {
   "cell_type": "code",
   "execution_count": 21,
   "metadata": {},
   "outputs": [],
   "source": [
    "df = pd.concat(df_list)"
   ]
  },
  {
   "cell_type": "code",
   "execution_count": 22,
   "metadata": {},
   "outputs": [
    {
     "data": {
      "text/html": [
       "<div>\n",
       "<style scoped>\n",
       "    .dataframe tbody tr th:only-of-type {\n",
       "        vertical-align: middle;\n",
       "    }\n",
       "\n",
       "    .dataframe tbody tr th {\n",
       "        vertical-align: top;\n",
       "    }\n",
       "\n",
       "    .dataframe thead th {\n",
       "        text-align: right;\n",
       "    }\n",
       "</style>\n",
       "<table border=\"1\" class=\"dataframe\">\n",
       "  <thead>\n",
       "    <tr style=\"text-align: right;\">\n",
       "      <th></th>\n",
       "      <th>Muon_pt_1</th>\n",
       "      <th>Muon_pt_2</th>\n",
       "      <th>Muon_eta_1</th>\n",
       "      <th>Muon_eta_2</th>\n",
       "      <th>Electron_pt_1</th>\n",
       "      <th>Electron_pt_2</th>\n",
       "      <th>Electron_eta_1</th>\n",
       "      <th>Electron_eta_2</th>\n",
       "      <th>dPhim1e1</th>\n",
       "      <th>dPhim1e2</th>\n",
       "      <th>dPhim2e1</th>\n",
       "      <th>dPhim2e2</th>\n",
       "      <th>dPhim1m2</th>\n",
       "      <th>dPhie1e2</th>\n",
       "      <th>y</th>\n",
       "    </tr>\n",
       "  </thead>\n",
       "  <tbody>\n",
       "    <tr>\n",
       "      <th>count</th>\n",
       "      <td>154222.000000</td>\n",
       "      <td>154222.000000</td>\n",
       "      <td>154222.000000</td>\n",
       "      <td>154222.000000</td>\n",
       "      <td>154222.000000</td>\n",
       "      <td>154222.000000</td>\n",
       "      <td>154222.000000</td>\n",
       "      <td>154222.000000</td>\n",
       "      <td>154222.000000</td>\n",
       "      <td>154222.000000</td>\n",
       "      <td>154222.000000</td>\n",
       "      <td>154222.000000</td>\n",
       "      <td>154222.000000</td>\n",
       "      <td>154222.000000</td>\n",
       "      <td>154222.000000</td>\n",
       "    </tr>\n",
       "    <tr>\n",
       "      <th>mean</th>\n",
       "      <td>28.398296</td>\n",
       "      <td>28.436657</td>\n",
       "      <td>-0.045130</td>\n",
       "      <td>0.039037</td>\n",
       "      <td>31.355219</td>\n",
       "      <td>31.692764</td>\n",
       "      <td>-0.003383</td>\n",
       "      <td>0.001845</td>\n",
       "      <td>-0.172300</td>\n",
       "      <td>-0.144098</td>\n",
       "      <td>0.108327</td>\n",
       "      <td>0.136529</td>\n",
       "      <td>-0.280627</td>\n",
       "      <td>0.028203</td>\n",
       "      <td>0.148085</td>\n",
       "    </tr>\n",
       "    <tr>\n",
       "      <th>std</th>\n",
       "      <td>28.003078</td>\n",
       "      <td>59.965767</td>\n",
       "      <td>1.387349</td>\n",
       "      <td>1.037363</td>\n",
       "      <td>26.022367</td>\n",
       "      <td>27.737968</td>\n",
       "      <td>1.113735</td>\n",
       "      <td>1.326716</td>\n",
       "      <td>2.646536</td>\n",
       "      <td>2.642495</td>\n",
       "      <td>2.611334</td>\n",
       "      <td>2.617790</td>\n",
       "      <td>2.571746</td>\n",
       "      <td>2.727471</td>\n",
       "      <td>0.355186</td>\n",
       "    </tr>\n",
       "    <tr>\n",
       "      <th>min</th>\n",
       "      <td>3.000166</td>\n",
       "      <td>3.000157</td>\n",
       "      <td>-5.696682</td>\n",
       "      <td>-5.712338</td>\n",
       "      <td>5.000047</td>\n",
       "      <td>5.000097</td>\n",
       "      <td>-2.676136</td>\n",
       "      <td>-2.654118</td>\n",
       "      <td>-6.260075</td>\n",
       "      <td>-6.277071</td>\n",
       "      <td>-6.261344</td>\n",
       "      <td>-6.261574</td>\n",
       "      <td>-6.277163</td>\n",
       "      <td>-6.262017</td>\n",
       "      <td>0.000000</td>\n",
       "    </tr>\n",
       "    <tr>\n",
       "      <th>25%</th>\n",
       "      <td>9.379567</td>\n",
       "      <td>8.271853</td>\n",
       "      <td>-1.291891</td>\n",
       "      <td>-0.687472</td>\n",
       "      <td>13.340180</td>\n",
       "      <td>12.444839</td>\n",
       "      <td>-0.810923</td>\n",
       "      <td>-1.063239</td>\n",
       "      <td>-2.377478</td>\n",
       "      <td>-2.354767</td>\n",
       "      <td>-1.986600</td>\n",
       "      <td>-1.995174</td>\n",
       "      <td>-2.451504</td>\n",
       "      <td>-2.557987</td>\n",
       "      <td>0.000000</td>\n",
       "    </tr>\n",
       "    <tr>\n",
       "      <th>50%</th>\n",
       "      <td>20.754837</td>\n",
       "      <td>19.918246</td>\n",
       "      <td>-0.077602</td>\n",
       "      <td>0.045477</td>\n",
       "      <td>26.018016</td>\n",
       "      <td>25.750870</td>\n",
       "      <td>-0.001455</td>\n",
       "      <td>-0.000584</td>\n",
       "      <td>-0.167161</td>\n",
       "      <td>-0.133438</td>\n",
       "      <td>0.087897</td>\n",
       "      <td>0.114934</td>\n",
       "      <td>-0.312539</td>\n",
       "      <td>0.037915</td>\n",
       "      <td>0.000000</td>\n",
       "    </tr>\n",
       "    <tr>\n",
       "      <th>75%</th>\n",
       "      <td>38.886437</td>\n",
       "      <td>38.802670</td>\n",
       "      <td>1.229341</td>\n",
       "      <td>0.767774</td>\n",
       "      <td>41.076676</td>\n",
       "      <td>41.640589</td>\n",
       "      <td>0.802387</td>\n",
       "      <td>1.071124</td>\n",
       "      <td>1.948316</td>\n",
       "      <td>2.011682</td>\n",
       "      <td>2.256798</td>\n",
       "      <td>2.332557</td>\n",
       "      <td>1.666354</td>\n",
       "      <td>2.615443</td>\n",
       "      <td>0.000000</td>\n",
       "    </tr>\n",
       "    <tr>\n",
       "      <th>max</th>\n",
       "      <td>1897.867920</td>\n",
       "      <td>16244.873047</td>\n",
       "      <td>2.510320</td>\n",
       "      <td>5.592937</td>\n",
       "      <td>598.043518</td>\n",
       "      <td>677.865173</td>\n",
       "      <td>2.664995</td>\n",
       "      <td>2.669436</td>\n",
       "      <td>6.268476</td>\n",
       "      <td>6.254736</td>\n",
       "      <td>6.275122</td>\n",
       "      <td>6.254691</td>\n",
       "      <td>6.257235</td>\n",
       "      <td>6.264532</td>\n",
       "      <td>1.000000</td>\n",
       "    </tr>\n",
       "  </tbody>\n",
       "</table>\n",
       "</div>"
      ],
      "text/plain": [
       "           Muon_pt_1      Muon_pt_2     Muon_eta_1     Muon_eta_2  \\\n",
       "count  154222.000000  154222.000000  154222.000000  154222.000000   \n",
       "mean       28.398296      28.436657      -0.045130       0.039037   \n",
       "std        28.003078      59.965767       1.387349       1.037363   \n",
       "min         3.000166       3.000157      -5.696682      -5.712338   \n",
       "25%         9.379567       8.271853      -1.291891      -0.687472   \n",
       "50%        20.754837      19.918246      -0.077602       0.045477   \n",
       "75%        38.886437      38.802670       1.229341       0.767774   \n",
       "max      1897.867920   16244.873047       2.510320       5.592937   \n",
       "\n",
       "       Electron_pt_1  Electron_pt_2  Electron_eta_1  Electron_eta_2  \\\n",
       "count  154222.000000  154222.000000   154222.000000   154222.000000   \n",
       "mean       31.355219      31.692764       -0.003383        0.001845   \n",
       "std        26.022367      27.737968        1.113735        1.326716   \n",
       "min         5.000047       5.000097       -2.676136       -2.654118   \n",
       "25%        13.340180      12.444839       -0.810923       -1.063239   \n",
       "50%        26.018016      25.750870       -0.001455       -0.000584   \n",
       "75%        41.076676      41.640589        0.802387        1.071124   \n",
       "max       598.043518     677.865173        2.664995        2.669436   \n",
       "\n",
       "            dPhim1e1       dPhim1e2       dPhim2e1       dPhim2e2  \\\n",
       "count  154222.000000  154222.000000  154222.000000  154222.000000   \n",
       "mean       -0.172300      -0.144098       0.108327       0.136529   \n",
       "std         2.646536       2.642495       2.611334       2.617790   \n",
       "min        -6.260075      -6.277071      -6.261344      -6.261574   \n",
       "25%        -2.377478      -2.354767      -1.986600      -1.995174   \n",
       "50%        -0.167161      -0.133438       0.087897       0.114934   \n",
       "75%         1.948316       2.011682       2.256798       2.332557   \n",
       "max         6.268476       6.254736       6.275122       6.254691   \n",
       "\n",
       "            dPhim1m2       dPhie1e2              y  \n",
       "count  154222.000000  154222.000000  154222.000000  \n",
       "mean       -0.280627       0.028203       0.148085  \n",
       "std         2.571746       2.727471       0.355186  \n",
       "min        -6.277163      -6.262017       0.000000  \n",
       "25%        -2.451504      -2.557987       0.000000  \n",
       "50%        -0.312539       0.037915       0.000000  \n",
       "75%         1.666354       2.615443       0.000000  \n",
       "max         6.257235       6.264532       1.000000  "
      ]
     },
     "execution_count": 22,
     "metadata": {},
     "output_type": "execute_result"
    }
   ],
   "source": [
    "df.describe()"
   ]
  },
  {
   "cell_type": "markdown",
   "metadata": {},
   "source": [
    "So now we have combined our signal and background into a sigle dataframe using pd.concat. Lets plot these variables using matplotlib."
   ]
  },
  {
   "cell_type": "code",
   "execution_count": 23,
   "metadata": {},
   "outputs": [
    {
     "data": {
      "text/plain": [
       "Index(['Muon_pt_1', 'Muon_pt_2', 'Muon_eta_1', 'Muon_eta_2', 'Electron_pt_1',\n",
       "       'Electron_pt_2', 'Electron_eta_1', 'Electron_eta_2', 'dPhim1e1',\n",
       "       'dPhim1e2', 'dPhim2e1', 'dPhim2e2', 'dPhim1m2', 'dPhie1e2', 'y'],\n",
       "      dtype='object')"
      ]
     },
     "execution_count": 23,
     "metadata": {},
     "output_type": "execute_result"
    }
   ],
   "source": [
    "df.keys()"
   ]
  },
  {
   "cell_type": "code",
   "execution_count": 24,
   "metadata": {},
   "outputs": [
    {
     "data": {
      "image/png": "[encoded data removed]",
      "text/plain": [
       "<Figure size 400x400 with 1 Axes>"
      ]
     },
     "metadata": {
      "needs_background": "light"
     },
     "output_type": "display_data"
    },
    {
     "data": {
      "image/png": "[encoded data removed]",
      "text/plain": [
       "<Figure size 400x400 with 1 Axes>"
      ]
     },
     "metadata": {
      "needs_background": "light"
     },
     "output_type": "display_data"
    },
    {
     "data": {
      "image/png": "[encoded data removed]",
      "text/plain": [
       "<Figure size 400x400 with 1 Axes>"
      ]
     },
     "metadata": {
      "needs_background": "light"
     },
     "output_type": "display_data"
    },
    {
     "data": {
      "image/png": "[encoded data removed]",
      "text/plain": [
       "<Figure size 400x400 with 1 Axes>"
      ]
     },
     "metadata": {
      "needs_background": "light"
     },
     "output_type": "display_data"
    },
    {
     "data": {
      "image/png": "[encoded data removed]",
      "text/plain": [
       "<Figure size 400x400 with 1 Axes>"
      ]
     },
     "metadata": {
      "needs_background": "light"
     },
     "output_type": "display_data"
    },
    {
     "data": {
      "image/png": "[encoded data removed]",
      "text/plain": [
       "<Figure size 400x400 with 1 Axes>"
      ]
     },
     "metadata": {
      "needs_background": "light"
     },
     "output_type": "display_data"
    },
    {
     "data": {
      "image/png": "[encoded data removed]",
      "text/plain": [
       "<Figure size 400x400 with 1 Axes>"
      ]
     },
     "metadata": {
      "needs_background": "light"
     },
     "output_type": "display_data"
    },
    {
     "data": {
      "image/png": "[encoded data removed]",
      "text/plain": [
       "<Figure size 400x400 with 1 Axes>"
      ]
     },
     "metadata": {
      "needs_background": "light"
     },
     "output_type": "display_data"
    },
    {
     "data": {
      "image/png": "[encoded data removed]",
      "text/plain": [
       "<Figure size 400x400 with 1 Axes>"
      ]
     },
     "metadata": {
      "needs_background": "light"
     },
     "output_type": "display_data"
    },
    {
     "data": {
      "image/png": "[encoded data removed]",
      "text/plain": [
       "<Figure size 400x400 with 1 Axes>"
      ]
     },
     "metadata": {
      "needs_background": "light"
     },
     "output_type": "display_data"
    },
    {
     "data": {
      "image/png": "[encoded data removed]",
      "text/plain": [
       "<Figure size 400x400 with 1 Axes>"
      ]
     },
     "metadata": {
      "needs_background": "light"
     },
     "output_type": "display_data"
    },
    {
     "data": {
      "image/png": "[encoded data removed]",
      "text/plain": [
       "<Figure size 400x400 with 1 Axes>"
      ]
     },
     "metadata": {
      "needs_background": "light"
     },
     "output_type": "display_data"
    },
    {
     "data": {
      "image/png": "[encoded data removed]",
      "text/plain": [
       "<Figure size 400x400 with 1 Axes>"
      ]
     },
     "metadata": {
      "needs_background": "light"
     },
     "output_type": "display_data"
    },
    {
     "data": {
      "image/png": "[encoded data removed]",
      "text/plain": [
       "<Figure size 400x400 with 1 Axes>"
      ]
     },
     "metadata": {
      "needs_background": "light"
     },
     "output_type": "display_data"
    },
    {
     "data": {
      "image/png": "[encoded data removed]",
      "text/plain": [
       "<Figure size 400x400 with 1 Axes>"
      ]
     },
     "metadata": {
      "needs_background": "light"
     },
     "output_type": "display_data"
    }
   ],
   "source": [
    "# iterate through the columns\n",
    "for key in df.keys():\n",
    "    # plotting settings\n",
    "    #matplotlib.rcParams.update({'font.size': 16})\n",
    "    fig = plt.figure(figsize=(4, 4), dpi=100)\n",
    "    bins = np.linspace(min(df[key]), max(df[key]), 60)\n",
    "    # plot!\n",
    "    plt.hist(df[df.y<0.5][key], bins=bins, histtype='step',label='background',density=1)\n",
    "    plt.hist(df[df.y>=0.5][key], bins=bins, histtype='step',label='signal',density=1)\n",
    "    \n",
    "    # decorate\n",
    "    plt.xlabel(key)\n",
    "    plt.ylabel('Normalized units')\n",
    "    plt.legend()\n",
    "    plt.plot()\n",
    "    #plt.savefig(\"{}.png\".format(key), bbox_inches=\"tight\")\n",
    "\n"
   ]
  },
  {
   "cell_type": "code",
   "execution_count": null,
   "metadata": {},
   "outputs": [],
   "source": []
  },
  {
   "cell_type": "raw",
   "metadata": {},
   "source": []
  },
  {
   "cell_type": "code",
   "execution_count": null,
   "metadata": {},
   "outputs": [],
   "source": []
  },
  {
   "cell_type": "code",
   "execution_count": null,
   "metadata": {},
   "outputs": [],
   "source": []
  },
  {
   "cell_type": "code",
   "execution_count": 25,
   "metadata": {},
   "outputs": [
    {
     "data": {
      "text/html": [
       "<div>\n",
       "<style scoped>\n",
       "    .dataframe tbody tr th:only-of-type {\n",
       "        vertical-align: middle;\n",
       "    }\n",
       "\n",
       "    .dataframe tbody tr th {\n",
       "        vertical-align: top;\n",
       "    }\n",
       "\n",
       "    .dataframe thead th {\n",
       "        text-align: right;\n",
       "    }\n",
       "</style>\n",
       "<table border=\"1\" class=\"dataframe\">\n",
       "  <thead>\n",
       "    <tr style=\"text-align: right;\">\n",
       "      <th></th>\n",
       "      <th>Muon_pt_1</th>\n",
       "      <th>Muon_pt_2</th>\n",
       "      <th>Muon_eta_1</th>\n",
       "      <th>Muon_eta_2</th>\n",
       "      <th>Electron_pt_1</th>\n",
       "      <th>Electron_pt_2</th>\n",
       "      <th>Electron_eta_1</th>\n",
       "      <th>Electron_eta_2</th>\n",
       "      <th>dPhim1e1</th>\n",
       "      <th>dPhim1e2</th>\n",
       "      <th>dPhim2e1</th>\n",
       "      <th>dPhim2e2</th>\n",
       "      <th>dPhim1m2</th>\n",
       "      <th>dPhie1e2</th>\n",
       "      <th>y</th>\n",
       "    </tr>\n",
       "    <tr>\n",
       "      <th>entry</th>\n",
       "      <th></th>\n",
       "      <th></th>\n",
       "      <th></th>\n",
       "      <th></th>\n",
       "      <th></th>\n",
       "      <th></th>\n",
       "      <th></th>\n",
       "      <th></th>\n",
       "      <th></th>\n",
       "      <th></th>\n",
       "      <th></th>\n",
       "      <th></th>\n",
       "      <th></th>\n",
       "      <th></th>\n",
       "      <th></th>\n",
       "    </tr>\n",
       "  </thead>\n",
       "  <tbody>\n",
       "    <tr>\n",
       "      <th>0</th>\n",
       "      <td>17.382437</td>\n",
       "      <td>13.238400</td>\n",
       "      <td>-0.287998</td>\n",
       "      <td>-2.505396</td>\n",
       "      <td>44.744175</td>\n",
       "      <td>58.942070</td>\n",
       "      <td>-0.440202</td>\n",
       "      <td>-1.174093</td>\n",
       "      <td>0.859931</td>\n",
       "      <td>2.731727</td>\n",
       "      <td>-4.039423</td>\n",
       "      <td>-2.167627</td>\n",
       "      <td>4.899354</td>\n",
       "      <td>1.871796</td>\n",
       "      <td>1</td>\n",
       "    </tr>\n",
       "    <tr>\n",
       "      <th>1</th>\n",
       "      <td>50.051613</td>\n",
       "      <td>41.024353</td>\n",
       "      <td>0.437299</td>\n",
       "      <td>0.728018</td>\n",
       "      <td>15.959146</td>\n",
       "      <td>5.622648</td>\n",
       "      <td>1.032079</td>\n",
       "      <td>0.413351</td>\n",
       "      <td>0.237984</td>\n",
       "      <td>-3.473453</td>\n",
       "      <td>3.290306</td>\n",
       "      <td>-0.421131</td>\n",
       "      <td>-3.052322</td>\n",
       "      <td>-3.711437</td>\n",
       "      <td>1</td>\n",
       "    </tr>\n",
       "    <tr>\n",
       "      <th>2</th>\n",
       "      <td>24.702271</td>\n",
       "      <td>41.462658</td>\n",
       "      <td>1.642034</td>\n",
       "      <td>-0.360378</td>\n",
       "      <td>5.042018</td>\n",
       "      <td>7.994947</td>\n",
       "      <td>-1.505692</td>\n",
       "      <td>1.702696</td>\n",
       "      <td>-0.474739</td>\n",
       "      <td>2.842660</td>\n",
       "      <td>-1.923548</td>\n",
       "      <td>1.393850</td>\n",
       "      <td>1.448810</td>\n",
       "      <td>3.317399</td>\n",
       "      <td>1</td>\n",
       "    </tr>\n",
       "    <tr>\n",
       "      <th>3</th>\n",
       "      <td>55.392330</td>\n",
       "      <td>32.569691</td>\n",
       "      <td>1.291607</td>\n",
       "      <td>0.371377</td>\n",
       "      <td>16.479095</td>\n",
       "      <td>14.080798</td>\n",
       "      <td>0.810022</td>\n",
       "      <td>1.582687</td>\n",
       "      <td>3.420421</td>\n",
       "      <td>-1.231367</td>\n",
       "      <td>0.012445</td>\n",
       "      <td>-4.639343</td>\n",
       "      <td>3.407976</td>\n",
       "      <td>-4.651788</td>\n",
       "      <td>1</td>\n",
       "    </tr>\n",
       "    <tr>\n",
       "      <th>4</th>\n",
       "      <td>37.216637</td>\n",
       "      <td>54.203739</td>\n",
       "      <td>-0.496596</td>\n",
       "      <td>-0.919289</td>\n",
       "      <td>14.535382</td>\n",
       "      <td>17.012287</td>\n",
       "      <td>-0.030889</td>\n",
       "      <td>-0.248747</td>\n",
       "      <td>-5.228100</td>\n",
       "      <td>-2.087943</td>\n",
       "      <td>-2.184106</td>\n",
       "      <td>0.956050</td>\n",
       "      <td>-3.043994</td>\n",
       "      <td>3.140156</td>\n",
       "      <td>1</td>\n",
       "    </tr>\n",
       "    <tr>\n",
       "      <th>...</th>\n",
       "      <td>...</td>\n",
       "      <td>...</td>\n",
       "      <td>...</td>\n",
       "      <td>...</td>\n",
       "      <td>...</td>\n",
       "      <td>...</td>\n",
       "      <td>...</td>\n",
       "      <td>...</td>\n",
       "      <td>...</td>\n",
       "      <td>...</td>\n",
       "      <td>...</td>\n",
       "      <td>...</td>\n",
       "      <td>...</td>\n",
       "      <td>...</td>\n",
       "      <td>...</td>\n",
       "    </tr>\n",
       "    <tr>\n",
       "      <th>131379</th>\n",
       "      <td>21.862818</td>\n",
       "      <td>19.073345</td>\n",
       "      <td>-1.055002</td>\n",
       "      <td>-2.164875</td>\n",
       "      <td>19.002207</td>\n",
       "      <td>5.763723</td>\n",
       "      <td>-0.690505</td>\n",
       "      <td>-1.157036</td>\n",
       "      <td>-2.024491</td>\n",
       "      <td>-1.485335</td>\n",
       "      <td>2.016119</td>\n",
       "      <td>2.555275</td>\n",
       "      <td>-4.040610</td>\n",
       "      <td>0.539156</td>\n",
       "      <td>0</td>\n",
       "    </tr>\n",
       "    <tr>\n",
       "      <th>131380</th>\n",
       "      <td>18.242289</td>\n",
       "      <td>3.407574</td>\n",
       "      <td>0.818265</td>\n",
       "      <td>-0.694935</td>\n",
       "      <td>9.947722</td>\n",
       "      <td>29.983360</td>\n",
       "      <td>-0.631561</td>\n",
       "      <td>1.908502</td>\n",
       "      <td>-1.794056</td>\n",
       "      <td>-4.249772</td>\n",
       "      <td>-3.328629</td>\n",
       "      <td>-5.784345</td>\n",
       "      <td>1.534573</td>\n",
       "      <td>-2.455716</td>\n",
       "      <td>0</td>\n",
       "    </tr>\n",
       "    <tr>\n",
       "      <th>131381</th>\n",
       "      <td>9.866125</td>\n",
       "      <td>13.998549</td>\n",
       "      <td>1.178619</td>\n",
       "      <td>-0.324961</td>\n",
       "      <td>47.307266</td>\n",
       "      <td>37.936897</td>\n",
       "      <td>-1.317964</td>\n",
       "      <td>-2.447798</td>\n",
       "      <td>-0.706247</td>\n",
       "      <td>2.634208</td>\n",
       "      <td>-4.888000</td>\n",
       "      <td>-1.547545</td>\n",
       "      <td>4.181753</td>\n",
       "      <td>3.340456</td>\n",
       "      <td>0</td>\n",
       "    </tr>\n",
       "    <tr>\n",
       "      <th>131382</th>\n",
       "      <td>7.254772</td>\n",
       "      <td>179.028061</td>\n",
       "      <td>1.636060</td>\n",
       "      <td>-0.428018</td>\n",
       "      <td>32.595039</td>\n",
       "      <td>192.233215</td>\n",
       "      <td>-1.635862</td>\n",
       "      <td>-0.484780</td>\n",
       "      <td>-2.097756</td>\n",
       "      <td>-1.938121</td>\n",
       "      <td>-2.892393</td>\n",
       "      <td>-2.732759</td>\n",
       "      <td>0.794637</td>\n",
       "      <td>0.159635</td>\n",
       "      <td>0</td>\n",
       "    </tr>\n",
       "    <tr>\n",
       "      <th>131383</th>\n",
       "      <td>5.038030</td>\n",
       "      <td>4.023542</td>\n",
       "      <td>1.114621</td>\n",
       "      <td>-0.662959</td>\n",
       "      <td>5.006265</td>\n",
       "      <td>6.760109</td>\n",
       "      <td>0.463620</td>\n",
       "      <td>0.137060</td>\n",
       "      <td>-2.780358</td>\n",
       "      <td>-3.597890</td>\n",
       "      <td>2.389808</td>\n",
       "      <td>1.572277</td>\n",
       "      <td>-5.170166</td>\n",
       "      <td>-0.817532</td>\n",
       "      <td>0</td>\n",
       "    </tr>\n",
       "  </tbody>\n",
       "</table>\n",
       "<p>154222 rows × 15 columns</p>\n",
       "</div>"
      ],
      "text/plain": [
       "        Muon_pt_1   Muon_pt_2  Muon_eta_1  Muon_eta_2  Electron_pt_1  \\\n",
       "entry                                                                  \n",
       "0       17.382437   13.238400   -0.287998   -2.505396      44.744175   \n",
       "1       50.051613   41.024353    0.437299    0.728018      15.959146   \n",
       "2       24.702271   41.462658    1.642034   -0.360378       5.042018   \n",
       "3       55.392330   32.569691    1.291607    0.371377      16.479095   \n",
       "4       37.216637   54.203739   -0.496596   -0.919289      14.535382   \n",
       "...           ...         ...         ...         ...            ...   \n",
       "131379  21.862818   19.073345   -1.055002   -2.164875      19.002207   \n",
       "131380  18.242289    3.407574    0.818265   -0.694935       9.947722   \n",
       "131381   9.866125   13.998549    1.178619   -0.324961      47.307266   \n",
       "131382   7.254772  179.028061    1.636060   -0.428018      32.595039   \n",
       "131383   5.038030    4.023542    1.114621   -0.662959       5.006265   \n",
       "\n",
       "        Electron_pt_2  Electron_eta_1  Electron_eta_2  dPhim1e1  dPhim1e2  \\\n",
       "entry                                                                       \n",
       "0           58.942070       -0.440202       -1.174093  0.859931  2.731727   \n",
       "1            5.622648        1.032079        0.413351  0.237984 -3.473453   \n",
       "2            7.994947       -1.505692        1.702696 -0.474739  2.842660   \n",
       "3           14.080798        0.810022        1.582687  3.420421 -1.231367   \n",
       "4           17.012287       -0.030889       -0.248747 -5.228100 -2.087943   \n",
       "...               ...             ...             ...       ...       ...   \n",
       "131379       5.763723       -0.690505       -1.157036 -2.024491 -1.485335   \n",
       "131380      29.983360       -0.631561        1.908502 -1.794056 -4.249772   \n",
       "131381      37.936897       -1.317964       -2.447798 -0.706247  2.634208   \n",
       "131382     192.233215       -1.635862       -0.484780 -2.097756 -1.938121   \n",
       "131383       6.760109        0.463620        0.137060 -2.780358 -3.597890   \n",
       "\n",
       "        dPhim2e1  dPhim2e2  dPhim1m2  dPhie1e2  y  \n",
       "entry                                              \n",
       "0      -4.039423 -2.167627  4.899354  1.871796  1  \n",
       "1       3.290306 -0.421131 -3.052322 -3.711437  1  \n",
       "2      -1.923548  1.393850  1.448810  3.317399  1  \n",
       "3       0.012445 -4.639343  3.407976 -4.651788  1  \n",
       "4      -2.184106  0.956050 -3.043994  3.140156  1  \n",
       "...          ...       ...       ...       ... ..  \n",
       "131379  2.016119  2.555275 -4.040610  0.539156  0  \n",
       "131380 -3.328629 -5.784345  1.534573 -2.455716  0  \n",
       "131381 -4.888000 -1.547545  4.181753  3.340456  0  \n",
       "131382 -2.892393 -2.732759  0.794637  0.159635  0  \n",
       "131383  2.389808  1.572277 -5.170166 -0.817532  0  \n",
       "\n",
       "[154222 rows x 15 columns]"
      ]
     },
     "execution_count": 25,
     "metadata": {},
     "output_type": "execute_result"
    }
   ],
   "source": [
    "df"
   ]
  },
  {
   "cell_type": "markdown",
   "metadata": {},
   "source": [
    "Nice! Now let us now create an input dataset(containing all the events) X and their labels y(1 or 0)\n"
   ]
  },
  {
   "cell_type": "code",
   "execution_count": 26,
   "metadata": {},
   "outputs": [],
   "source": [
    "dataset = df.values"
   ]
  },
  {
   "cell_type": "code",
   "execution_count": 27,
   "metadata": {},
   "outputs": [],
   "source": [
    "X = dataset[:,0:14] # since we have 14 variables in this example\n",
    "y = dataset[:,14]"
   ]
  },
  {
   "cell_type": "code",
   "execution_count": 28,
   "metadata": {},
   "outputs": [
    {
     "data": {
      "text/plain": [
       "array([[ 1.73824368e+01,  1.32383995e+01, -2.87998140e-01, ...,\n",
       "        -2.16762710e+00,  4.89935398e+00,  1.87179613e+00],\n",
       "       [ 5.00516129e+01,  4.10243530e+01,  4.37299162e-01, ...,\n",
       "        -4.21131134e-01, -3.05232191e+00, -3.71143699e+00],\n",
       "       [ 2.47022705e+01,  4.14626579e+01,  1.64203417e+00, ...,\n",
       "         1.39385045e+00,  1.44880950e+00,  3.31739879e+00],\n",
       "       ...,\n",
       "       [ 9.86612511e+00,  1.39985485e+01,  1.17861855e+00, ...,\n",
       "        -1.54754484e+00,  4.18175316e+00,  3.34045553e+00],\n",
       "       [ 7.25477219e+00,  1.79028061e+02,  1.63606024e+00, ...,\n",
       "        -2.73275852e+00,  7.94637203e-01,  1.59634963e-01],\n",
       "       [ 5.03802967e+00,  4.02354193e+00,  1.11462140e+00, ...,\n",
       "         1.57227683e+00, -5.17016649e+00, -8.17531586e-01]])"
      ]
     },
     "execution_count": 28,
     "metadata": {},
     "output_type": "execute_result"
    }
   ],
   "source": [
    "X"
   ]
  },
  {
   "cell_type": "code",
   "execution_count": null,
   "metadata": {},
   "outputs": [],
   "source": []
  },
  {
   "cell_type": "code",
   "execution_count": 29,
   "metadata": {},
   "outputs": [
    {
     "data": {
      "text/plain": [
       "array([1., 1., 1., ..., 0., 0., 0.])"
      ]
     },
     "execution_count": 29,
     "metadata": {},
     "output_type": "execute_result"
    }
   ],
   "source": [
    "y"
   ]
  },
  {
   "cell_type": "markdown",
   "metadata": {},
   "source": [
    "### Now lets split our Inputs and labels randomly  training and  testing data"
   ]
  },
  {
   "cell_type": "code",
   "execution_count": 30,
   "metadata": {},
   "outputs": [],
   "source": [
    "from sklearn.model_selection import train_test_split"
   ]
  },
  {
   "cell_type": "code",
   "execution_count": 31,
   "metadata": {},
   "outputs": [],
   "source": [
    "X_train,X_test, y_train,y_test = train_test_split(X, y,\n",
    "                                                  test_size=0.20, random_state=42)"
   ]
  },
  {
   "cell_type": "code",
   "execution_count": 32,
   "metadata": {},
   "outputs": [],
   "source": [
    "from sklearn.metrics import classification_report, roc_auc_score"
   ]
  },
  {
   "cell_type": "code",
   "execution_count": 33,
   "metadata": {},
   "outputs": [
    {
     "data": {
      "text/plain": [
       "123377"
      ]
     },
     "execution_count": 33,
     "metadata": {},
     "output_type": "execute_result"
    }
   ],
   "source": [
    "len(X_train)"
   ]
  },
  {
   "cell_type": "markdown",
   "metadata": {},
   "source": [
    "### Congratulations. We have completed our first step. The next step is to construct and train our neural network model."
   ]
  },
  {
   "cell_type": "markdown",
   "metadata": {},
   "source": [
    "Lets first import tensorflow, keras etc"
   ]
  },
  {
   "cell_type": "code",
   "execution_count": 34,
   "metadata": {},
   "outputs": [
    {
     "name": "stderr",
     "output_type": "stream",
     "text": [
      "Using TensorFlow backend.\n"
     ]
    }
   ],
   "source": [
    "\n",
    "import os\n",
    "os.environ[\"KERAS_BACKEND\"] = \"tensorflow\"\n",
    "import subprocess\n",
    "import h5py\n",
    "import pickle\n",
    "from tensorflow import keras\n",
    "\n",
    "from keras.models import Sequential\n",
    "from keras.layers.core import Dense\n",
    "\n",
    "from sklearn.preprocessing import StandardScaler\n",
    "from sklearn.model_selection import train_test_split"
   ]
  },
  {
   "cell_type": "markdown",
   "metadata": {},
   "source": [
    "Let us now construct our neural network model specifying the number of neurons,hidden layers etc"
   ]
  },
  {
   "cell_type": "code",
   "execution_count": 35,
   "metadata": {},
   "outputs": [
    {
     "name": "stdout",
     "output_type": "stream",
     "text": [
      "Model: \"sequential_1\"\n",
      "_________________________________________________________________\n",
      "Layer (type)                 Output Shape              Param #   \n",
      "=================================================================\n",
      "dense_1 (Dense)              (None, 100)               1500      \n",
      "_________________________________________________________________\n",
      "dense_2 (Dense)              (None, 100)               10100     \n",
      "_________________________________________________________________\n",
      "dense_3 (Dense)              (None, 100)               10100     \n",
      "_________________________________________________________________\n",
      "dense_4 (Dense)              (None, 32)                3232      \n",
      "_________________________________________________________________\n",
      "dense_5 (Dense)              (None, 32)                1056      \n",
      "_________________________________________________________________\n",
      "dense_6 (Dense)              (None, 1)                 33        \n",
      "=================================================================\n",
      "Total params: 26,021\n",
      "Trainable params: 26,021\n",
      "Non-trainable params: 0\n",
      "_________________________________________________________________\n"
     ]
    }
   ],
   "source": [
    "model_deep = Sequential()\n",
    "\n",
    "model_deep.add(Dense(100, kernel_initializer=\"glorot_normal\", activation= \"relu\" ,input_dim=X.shape[1]))\n",
    "model_deep.add(Dense(100, kernel_initializer=\"glorot_normal\", activation= \"relu\"))\n",
    "model_deep.add(Dense(100, kernel_initializer=\"glorot_normal\", activation=\"relu\"))\n",
    "model_deep.add(Dense(32, kernel_initializer=\"glorot_normal\", activation=\"relu\"))\n",
    "model_deep.add(Dense(32, kernel_initializer=\"glorot_normal\", activation=\"relu\"))\n",
    "\n",
    "model_deep.add(Dense(1, kernel_initializer=\"glorot_uniform\", activation=\"sigmoid\"))\n",
    "\n",
    "model_deep.summary()"
   ]
  },
  {
   "cell_type": "code",
   "execution_count": null,
   "metadata": {},
   "outputs": [],
   "source": []
  },
  {
   "cell_type": "markdown",
   "metadata": {},
   "source": [
    "Now we need to compile our model specifying the loss function,evaluation metric etc"
   ]
  },
  {
   "cell_type": "code",
   "execution_count": 36,
   "metadata": {},
   "outputs": [],
   "source": [
    "model_deep.compile( loss=\"binary_crossentropy\", optimizer=\"adam\", metrics=[\"accuracy\"])"
   ]
  },
  {
   "cell_type": "markdown",
   "metadata": {},
   "source": [
    "#### Let us take a closer look at our Input variables. We can see that pt variables range from 0 to 1000 whereas eta variables range from -2 to 2 . If we dont standardize our variables to an equal footing , The neural network will give very high weightage(undeservedly) to some variables(like pt) whereas it will ignore the other variables. So we will scale our input variables using the StandardScalar tool from sklearn. "
   ]
  },
  {
   "cell_type": "code",
   "execution_count": 37,
   "metadata": {},
   "outputs": [],
   "source": [
    "preprocessing_input = StandardScaler()"
   ]
  },
  {
   "cell_type": "code",
   "execution_count": 38,
   "metadata": {},
   "outputs": [],
   "source": [
    "preprocessing_input = StandardScaler()\n",
    "preprocessing_input.fit(X_train)\n",
    "pickle.dump(preprocessing_input, open(\"HIGGS_preprocessing.pickle\", \"wb\"))"
   ]
  },
  {
   "cell_type": "code",
   "execution_count": 39,
   "metadata": {},
   "outputs": [
    {
     "data": {
      "image/png": "[encoded data removed]",
      "text/plain": [
       "<Figure size 432x288 with 2 Axes>"
      ]
     },
     "metadata": {
      "needs_background": "light"
     },
     "output_type": "display_data"
    }
   ],
   "source": [
    "preprocessed_input  = preprocessing_input.transform(X_train)\n",
    "plt.figure(1)\n",
    "plt.subplot(211)\n",
    "n, bins, patches = plt.hist(preprocessed_input[:,0],60,range=(0,2))\n",
    "plt.title('Muon_pt_1)')\n",
    "plt.subplot(212)\n",
    "n, bins, patches = plt.hist(preprocessed_input[:,2],30)\n",
    "plt.title('Muon_eta_1')\n",
    "plt.show()"
   ]
  },
  {
   "cell_type": "markdown",
   "metadata": {},
   "source": [
    "## Dealing with imbalanced classes"
   ]
  },
  {
   "cell_type": "markdown",
   "metadata": {},
   "source": [
    "As promised we will now explain how to deal with the imbalance between the number of signal and background events. \n",
    "To deal with this we will create a simple dictionary called class_weights that will give a higher weightage to signal events( based on the ratio of signal to total events) specy the class weights when we train the model. "
   ]
  },
  {
   "cell_type": "code",
   "execution_count": 40,
   "metadata": {},
   "outputs": [],
   "source": [
    "class_weights = {0:len(y)/(y==0).sum(),\n",
    "                 1:len(y)/(y==1).sum()\n",
    "                 }"
   ]
  },
  {
   "cell_type": "code",
   "execution_count": 41,
   "metadata": {},
   "outputs": [
    {
     "data": {
      "text/plain": [
       "{0: 1.173826341106984, 1: 6.75286802697259}"
      ]
     },
     "execution_count": 41,
     "metadata": {},
     "output_type": "execute_result"
    }
   ],
   "source": [
    "class_weights"
   ]
  },
  {
   "cell_type": "markdown",
   "metadata": {},
   "source": [
    "### Now let us train our model"
   ]
  },
  {
   "cell_type": "markdown",
   "metadata": {},
   "source": [
    "We will first use import a tool from keras called callbacks which will help the network to avoid overtraining using a method called early(Discussed in yesterdays lecture)"
   ]
  },
  {
   "cell_type": "code",
   "execution_count": 42,
   "metadata": {},
   "outputs": [],
   "source": [
    "from keras import callbacks"
   ]
  },
  {
   "cell_type": "markdown",
   "metadata": {},
   "source": [
    "Now lets train."
   ]
  },
  {
   "cell_type": "code",
   "execution_count": 43,
   "metadata": {},
   "outputs": [
    {
     "name": "stdout",
     "output_type": "stream",
     "text": [
      "Train now the deep model \n",
      "Train on 98701 samples, validate on 24676 samples\n",
      "Epoch 1/30\n",
      "98701/98701 [==============================] - 7s 67us/step - loss: 1.1052 - accuracy: 0.7145 - val_loss: 0.9553 - val_accuracy: 0.8153\n",
      "\n",
      "Epoch 00001: val_loss improved from inf to 0.95535, saving model to model_deep.h5\n",
      "Epoch 2/30\n",
      "98701/98701 [==============================] - 5s 52us/step - loss: 0.8968 - accuracy: 0.8105 - val_loss: 0.8857 - val_accuracy: 0.7891\n",
      "\n",
      "Epoch 00002: val_loss improved from 0.95535 to 0.88567, saving model to model_deep.h5\n",
      "Epoch 3/30\n",
      "98701/98701 [==============================] - 5s 55us/step - loss: 0.8444 - accuracy: 0.8120 - val_loss: 0.8459 - val_accuracy: 0.8113\n",
      "\n",
      "Epoch 00003: val_loss improved from 0.88567 to 0.84593, saving model to model_deep.h5\n",
      "Epoch 4/30\n",
      "98701/98701 [==============================] - 5s 52us/step - loss: 0.8134 - accuracy: 0.8131 - val_loss: 0.8253 - val_accuracy: 0.8016\n",
      "\n",
      "Epoch 00004: val_loss improved from 0.84593 to 0.82525, saving model to model_deep.h5\n",
      "Epoch 5/30\n",
      "98701/98701 [==============================] - 5s 51us/step - loss: 0.7875 - accuracy: 0.8174 - val_loss: 0.8140 - val_accuracy: 0.7937\n",
      "\n",
      "Epoch 00005: val_loss improved from 0.82525 to 0.81400, saving model to model_deep.h5\n",
      "Epoch 6/30\n",
      "98701/98701 [==============================] - 6s 58us/step - loss: 0.7628 - accuracy: 0.8213 - val_loss: 0.8257 - val_accuracy: 0.8452\n",
      "\n",
      "Epoch 00006: val_loss did not improve from 0.81400\n",
      "Epoch 7/30\n",
      "98701/98701 [==============================] - 5s 52us/step - loss: 0.7424 - accuracy: 0.8250 - val_loss: 0.7698 - val_accuracy: 0.8300\n",
      "\n",
      "Epoch 00007: val_loss improved from 0.81400 to 0.76980, saving model to model_deep.h5\n",
      "Epoch 8/30\n",
      "98701/98701 [==============================] - 5s 53us/step - loss: 0.7202 - accuracy: 0.8307 - val_loss: 0.7695 - val_accuracy: 0.8196\n",
      "\n",
      "Epoch 00008: val_loss improved from 0.76980 to 0.76953, saving model to model_deep.h5\n",
      "Epoch 9/30\n",
      "98701/98701 [==============================] - 5s 49us/step - loss: 0.7042 - accuracy: 0.8351 - val_loss: 0.7558 - val_accuracy: 0.8220\n",
      "\n",
      "Epoch 00009: val_loss improved from 0.76953 to 0.75582, saving model to model_deep.h5\n",
      "Epoch 10/30\n",
      "98701/98701 [==============================] - 6s 56us/step - loss: 0.6850 - accuracy: 0.8394 - val_loss: 0.7527 - val_accuracy: 0.8414\n",
      "\n",
      "Epoch 00010: val_loss improved from 0.75582 to 0.75267, saving model to model_deep.h5\n",
      "Epoch 11/30\n",
      "98701/98701 [==============================] - 5s 53us/step - loss: 0.6756 - accuracy: 0.8406 - val_loss: 0.7417 - val_accuracy: 0.8173\n",
      "\n",
      "Epoch 00011: val_loss improved from 0.75267 to 0.74166, saving model to model_deep.h5\n",
      "Epoch 12/30\n",
      "98701/98701 [==============================] - 5s 53us/step - loss: 0.6592 - accuracy: 0.8447 - val_loss: 0.7484 - val_accuracy: 0.8302\n",
      "\n",
      "Epoch 00012: val_loss did not improve from 0.74166\n",
      "Epoch 13/30\n",
      "98701/98701 [==============================] - 5s 50us/step - loss: 0.6449 - accuracy: 0.8464 - val_loss: 0.7473 - val_accuracy: 0.8278\n",
      "\n",
      "Epoch 00013: val_loss did not improve from 0.74166\n",
      "Epoch 14/30\n",
      "98701/98701 [==============================] - 5s 53us/step - loss: 0.6329 - accuracy: 0.8504 - val_loss: 0.7501 - val_accuracy: 0.8335\n",
      "\n",
      "Epoch 00014: val_loss did not improve from 0.74166\n",
      "Epoch 15/30\n",
      "98701/98701 [==============================] - 5s 52us/step - loss: 0.6222 - accuracy: 0.8517 - val_loss: 0.7390 - val_accuracy: 0.8358\n",
      "\n",
      "Epoch 00015: val_loss improved from 0.74166 to 0.73900, saving model to model_deep.h5\n",
      "Epoch 16/30\n",
      "98701/98701 [==============================] - 5s 53us/step - loss: 0.6081 - accuracy: 0.8554 - val_loss: 0.7278 - val_accuracy: 0.8358\n",
      "\n",
      "Epoch 00016: val_loss improved from 0.73900 to 0.72784, saving model to model_deep.h5\n",
      "Epoch 17/30\n",
      "98701/98701 [==============================] - 6s 62us/step - loss: 0.6018 - accuracy: 0.8580 - val_loss: 0.7323 - val_accuracy: 0.8447\n",
      "\n",
      "Epoch 00017: val_loss did not improve from 0.72784\n",
      "Epoch 18/30\n",
      "98701/98701 [==============================] - 5s 54us/step - loss: 0.5917 - accuracy: 0.8587 - val_loss: 0.7498 - val_accuracy: 0.8580\n",
      "\n",
      "Epoch 00018: val_loss did not improve from 0.72784\n",
      "Epoch 19/30\n",
      "98701/98701 [==============================] - 5s 54us/step - loss: 0.5816 - accuracy: 0.8609 - val_loss: 0.7343 - val_accuracy: 0.8349\n",
      "\n",
      "Epoch 00019: val_loss did not improve from 0.72784\n",
      "Epoch 20/30\n",
      "98701/98701 [==============================] - 5s 49us/step - loss: 0.5703 - accuracy: 0.8653 - val_loss: 0.7654 - val_accuracy: 0.8569\n",
      "\n",
      "Epoch 00020: val_loss did not improve from 0.72784\n",
      "Epoch 21/30\n",
      "98701/98701 [==============================] - 5s 51us/step - loss: 0.5640 - accuracy: 0.8662 - val_loss: 0.7441 - val_accuracy: 0.8384\n",
      "\n",
      "Epoch 00021: val_loss did not improve from 0.72784\n",
      "Epoch 00021: early stopping\n"
     ]
    }
   ],
   "source": [
    "print(\"Train now the deep model \")\n",
    "\n",
    "\n",
    "early_stopper = callbacks.EarlyStopping(monitor=\"val_loss\", patience=5, mode=\"auto\", verbose=True)\n",
    "model_check_point = callbacks.ModelCheckpoint(\"model_deep.h5\", monitor = 'val_loss', verbose=True, \n",
    "                                              save_best_only=True, mode='auto')\n",
    "\n",
    "\n",
    "history_d = model_deep.fit(\n",
    "                preprocessing_input.transform(X_train),\n",
    "                y_train,\n",
    "                batch_size=256,\n",
    "                epochs=30,\n",
    "                validation_split=0.2,\n",
    "                callbacks=[early_stopper, model_check_point],class_weight=class_weights )"
   ]
  },
  {
   "cell_type": "markdown",
   "metadata": {},
   "source": []
  },
  {
   "cell_type": "code",
   "execution_count": 44,
   "metadata": {},
   "outputs": [],
   "source": [
    "del df[\"y\"]"
   ]
  },
  {
   "cell_type": "code",
   "execution_count": 45,
   "metadata": {},
   "outputs": [
    {
     "data": {
      "text/plain": [
       "Index(['Muon_pt_1', 'Muon_pt_2', 'Muon_eta_1', 'Muon_eta_2', 'Electron_pt_1',\n",
       "       'Electron_pt_2', 'Electron_eta_1', 'Electron_eta_2', 'dPhim1e1',\n",
       "       'dPhim1e2', 'dPhim2e1', 'dPhim2e2', 'dPhim1m2', 'dPhie1e2'],\n",
       "      dtype='object')"
      ]
     },
     "execution_count": 45,
     "metadata": {},
     "output_type": "execute_result"
    }
   ],
   "source": [
    "df.keys()"
   ]
  },
  {
   "cell_type": "code",
   "execution_count": null,
   "metadata": {},
   "outputs": [],
   "source": []
  },
  {
   "cell_type": "code",
   "execution_count": null,
   "metadata": {},
   "outputs": [],
   "source": []
  },
  {
   "cell_type": "code",
   "execution_count": null,
   "metadata": {},
   "outputs": [],
   "source": []
  },
  {
   "cell_type": "code",
   "execution_count": 46,
   "metadata": {},
   "outputs": [
    {
     "data": {
      "text/plain": [
       "Index(['Muon_pt_1', 'Muon_pt_2', 'Muon_eta_1', 'Muon_eta_2', 'Electron_pt_1',\n",
       "       'Electron_pt_2', 'Electron_eta_1', 'Electron_eta_2', 'dPhim1e1',\n",
       "       'dPhim1e2', 'dPhim2e1', 'dPhim2e2', 'dPhim1m2', 'dPhie1e2'],\n",
       "      dtype='object')"
      ]
     },
     "execution_count": 46,
     "metadata": {},
     "output_type": "execute_result"
    }
   ],
   "source": [
    "df.keys()"
   ]
  },
  {
   "cell_type": "code",
   "execution_count": 47,
   "metadata": {
    "scrolled": true
   },
   "outputs": [
    {
     "data": {
      "image/png": "[encoded data removed]",
      "text/plain": [
       "<Figure size 432x288 with 1 Axes>"
      ]
     },
     "metadata": {
      "needs_background": "light"
     },
     "output_type": "display_data"
    }
   ],
   "source": [
    "plt.plot(history_d.history[\"loss\"], label=\"training loss\")\n",
    "plt.plot(history_d.history[\"val_loss\"], label=\"validation loss\")\n",
    "plt.legend()\n",
    "plt.show()"
   ]
  },
  {
   "cell_type": "markdown",
   "metadata": {},
   "source": [
    "By using early stopping, the model wil halt its training if the validation loss does not improve over a specified number of epochs(called patience) "
   ]
  },
  {
   "cell_type": "code",
   "execution_count": 48,
   "metadata": {},
   "outputs": [],
   "source": [
    "from keras.models import load_model"
   ]
  },
  {
   "cell_type": "code",
   "execution_count": 49,
   "metadata": {},
   "outputs": [],
   "source": [
    "model_deep = load_model(\"model_deep.h5\")\n",
    "preprocessing_input = pickle.load(open(\"HIGGS_preprocessing.pickle\", \"rb\"))"
   ]
  },
  {
   "cell_type": "markdown",
   "metadata": {},
   "source": [
    "### Now let us move on to the next step, Evaluating our trained model on test data"
   ]
  },
  {
   "cell_type": "code",
   "execution_count": 50,
   "metadata": {},
   "outputs": [
    {
     "name": "stdout",
     "output_type": "stream",
     "text": [
      "testing models using 30845 events\n"
     ]
    }
   ],
   "source": [
    "print('testing models using',X_test.shape[0],'events')\n",
    "\n",
    "ntest_evts = X_test.shape[0]"
   ]
  },
  {
   "cell_type": "code",
   "execution_count": 51,
   "metadata": {},
   "outputs": [],
   "source": [
    "predictions_deep = model_deep.predict(\n",
    "        preprocessing_input.transform(X_test[:ntest_evts]))"
   ]
  },
  {
   "cell_type": "markdown",
   "metadata": {},
   "source": [
    "#### Lets see what these predictions look like"
   ]
  },
  {
   "cell_type": "code",
   "execution_count": 52,
   "metadata": {},
   "outputs": [
    {
     "data": {
      "text/plain": [
       "array([[3.9838782e-01],\n",
       "       [9.6660388e-01],\n",
       "       [3.3223804e-03],\n",
       "       ...,\n",
       "       [1.1908209e-02],\n",
       "       [7.9906524e-05],\n",
       "       [9.2194641e-01]], dtype=float32)"
      ]
     },
     "execution_count": 52,
     "metadata": {},
     "output_type": "execute_result"
    }
   ],
   "source": [
    "predictions_deep"
   ]
  },
  {
   "cell_type": "markdown",
   "metadata": {},
   "source": [
    "These are the output of our DNN model.It returns a value between one and zero with values close to zero(one) indicating they are more background(signal)."
   ]
  },
  {
   "cell_type": "markdown",
   "metadata": {},
   "source": [
    "### Let us evaluate the performance of our DNN ploting the roc curve and calculting the area under the curve"
   ]
  },
  {
   "cell_type": "code",
   "execution_count": 58,
   "metadata": {},
   "outputs": [],
   "source": [
    "from sklearn.metrics import roc_auc_score,roc_curve,auc"
   ]
  },
  {
   "cell_type": "code",
   "execution_count": 54,
   "metadata": {},
   "outputs": [],
   "source": [
    "fpr_deep, tpr_deep, _ = roc_curve(y_test[:ntest_evts], predictions_deep)"
   ]
  },
  {
   "cell_type": "code",
   "execution_count": 59,
   "metadata": {},
   "outputs": [],
   "source": [
    "auc_deep = auc(fpr_deep, tpr_deep)"
   ]
  },
  {
   "cell_type": "code",
   "execution_count": 60,
   "metadata": {},
   "outputs": [
    {
     "name": "stdout",
     "output_type": "stream",
     "text": [
      "AUC  deep model   =  0.9233782808398949\n"
     ]
    }
   ],
   "source": [
    "print(\"AUC  deep model   = \",auc_deep)"
   ]
  },
  {
   "cell_type": "code",
   "execution_count": 61,
   "metadata": {},
   "outputs": [
    {
     "data": {
      "text/plain": [
       "(0.0, 1.0)"
      ]
     },
     "execution_count": 61,
     "metadata": {},
     "output_type": "execute_result"
    },
    {
     "data": {
      "image/png": "[encoded data removed]",
      "text/plain": [
       "<Figure size 432x432 with 1 Axes>"
      ]
     },
     "metadata": {
      "needs_background": "light"
     },
     "output_type": "display_data"
    }
   ],
   "source": [
    "plt.figure(figsize=(6,6))\n",
    "plt.plot(tpr_deep, 1.0-fpr_deep, lw=3, alpha=0.8,\n",
    "        label=\"Deep (AUC={:.3f})\".format(auc_deep))\n",
    "plt.xlabel(\"Signal efficiency\")\n",
    "plt.ylabel(\"Background rejection\")\n",
    "plt.legend(loc=3)\n",
    "plt.xlim((0.0, 1.0))\n",
    "plt.ylim((0.0, 1.0))\n",
    "#plt.savefig(\"HIGGS_roc.png\", bbox_inches=\"tight\")"
   ]
  },
  {
   "cell_type": "code",
   "execution_count": 63,
   "metadata": {},
   "outputs": [],
   "source": [
    "ntrain_evts = X_train.shape[0]"
   ]
  },
  {
   "cell_type": "code",
   "execution_count": 65,
   "metadata": {},
   "outputs": [],
   "source": [
    "predictions_deeptr = model_deep.predict(\n",
    "        preprocessing_input.transform(X_train[:ntrain_evts]))"
   ]
  },
  {
   "cell_type": "code",
   "execution_count": 67,
   "metadata": {},
   "outputs": [],
   "source": [
    "fpr_deep_tr, tpr_deep_tr, _ = roc_curve(y_train[:ntrain_evts], predictions_deeptr)"
   ]
  },
  {
   "cell_type": "code",
   "execution_count": 68,
   "metadata": {},
   "outputs": [],
   "source": [
    "auc_deep_tr = auc(fpr_deep_tr, tpr_deep_tr)"
   ]
  },
  {
   "cell_type": "code",
   "execution_count": 69,
   "metadata": {},
   "outputs": [
    {
     "name": "stdout",
     "output_type": "stream",
     "text": [
      "AUC  deep model   =  0.942275674712564\n"
     ]
    }
   ],
   "source": [
    "print(\"AUC  deep model   = \",auc_deep_tr)"
   ]
  },
  {
   "cell_type": "code",
   "execution_count": 71,
   "metadata": {},
   "outputs": [],
   "source": [
    "bkg_score = model_deep.predict((preprocessing_input.transform(X_train[:ntrain_evts])[y_train<0.5]))[:,0]"
   ]
  },
  {
   "cell_type": "code",
   "execution_count": 103,
   "metadata": {},
   "outputs": [],
   "source": [
    "sig_score = model_deep.predict((preprocessing_input.transform(X_train[:ntrain_evts])[y_train>0.5]))[:,0]"
   ]
  },
  {
   "cell_type": "code",
   "execution_count": 116,
   "metadata": {},
   "outputs": [],
   "source": [
    "sig_score_df = pd.DataFrame(sig_score)"
   ]
  },
  {
   "cell_type": "code",
   "execution_count": 117,
   "metadata": {},
   "outputs": [
    {
     "data": {
      "text/html": [
       "<div>\n",
       "<style scoped>\n",
       "    .dataframe tbody tr th:only-of-type {\n",
       "        vertical-align: middle;\n",
       "    }\n",
       "\n",
       "    .dataframe tbody tr th {\n",
       "        vertical-align: top;\n",
       "    }\n",
       "\n",
       "    .dataframe thead th {\n",
       "        text-align: right;\n",
       "    }\n",
       "</style>\n",
       "<table border=\"1\" class=\"dataframe\">\n",
       "  <thead>\n",
       "    <tr style=\"text-align: right;\">\n",
       "      <th></th>\n",
       "      <th>0</th>\n",
       "    </tr>\n",
       "  </thead>\n",
       "  <tbody>\n",
       "    <tr>\n",
       "      <th>0</th>\n",
       "      <td>True</td>\n",
       "    </tr>\n",
       "    <tr>\n",
       "      <th>1</th>\n",
       "      <td>False</td>\n",
       "    </tr>\n",
       "    <tr>\n",
       "      <th>2</th>\n",
       "      <td>True</td>\n",
       "    </tr>\n",
       "    <tr>\n",
       "      <th>3</th>\n",
       "      <td>False</td>\n",
       "    </tr>\n",
       "    <tr>\n",
       "      <th>4</th>\n",
       "      <td>True</td>\n",
       "    </tr>\n",
       "    <tr>\n",
       "      <th>...</th>\n",
       "      <td>...</td>\n",
       "    </tr>\n",
       "    <tr>\n",
       "      <th>18388</th>\n",
       "      <td>True</td>\n",
       "    </tr>\n",
       "    <tr>\n",
       "      <th>18389</th>\n",
       "      <td>False</td>\n",
       "    </tr>\n",
       "    <tr>\n",
       "      <th>18390</th>\n",
       "      <td>True</td>\n",
       "    </tr>\n",
       "    <tr>\n",
       "      <th>18391</th>\n",
       "      <td>True</td>\n",
       "    </tr>\n",
       "    <tr>\n",
       "      <th>18392</th>\n",
       "      <td>True</td>\n",
       "    </tr>\n",
       "  </tbody>\n",
       "</table>\n",
       "<p>18393 rows × 1 columns</p>\n",
       "</div>"
      ],
      "text/plain": [
       "           0\n",
       "0       True\n",
       "1      False\n",
       "2       True\n",
       "3      False\n",
       "4       True\n",
       "...      ...\n",
       "18388   True\n",
       "18389  False\n",
       "18390   True\n",
       "18391   True\n",
       "18392   True\n",
       "\n",
       "[18393 rows x 1 columns]"
      ]
     },
     "execution_count": 117,
     "metadata": {},
     "output_type": "execute_result"
    }
   ],
   "source": [
    "sig_score_df > 0.5"
   ]
  },
  {
   "cell_type": "code",
   "execution_count": 128,
   "metadata": {},
   "outputs": [],
   "source": []
  },
  {
   "cell_type": "code",
   "execution_count": 129,
   "metadata": {},
   "outputs": [
    {
     "data": {
      "text/html": [
       "<div>\n",
       "<style scoped>\n",
       "    .dataframe tbody tr th:only-of-type {\n",
       "        vertical-align: middle;\n",
       "    }\n",
       "\n",
       "    .dataframe tbody tr th {\n",
       "        vertical-align: top;\n",
       "    }\n",
       "\n",
       "    .dataframe thead th {\n",
       "        text-align: right;\n",
       "    }\n",
       "</style>\n",
       "<table border=\"1\" class=\"dataframe\">\n",
       "  <thead>\n",
       "    <tr style=\"text-align: right;\">\n",
       "      <th></th>\n",
       "      <th>0</th>\n",
       "    </tr>\n",
       "  </thead>\n",
       "  <tbody>\n",
       "    <tr>\n",
       "      <th>0</th>\n",
       "      <td>NaN</td>\n",
       "    </tr>\n",
       "    <tr>\n",
       "      <th>1</th>\n",
       "      <td>NaN</td>\n",
       "    </tr>\n",
       "    <tr>\n",
       "      <th>2</th>\n",
       "      <td>0.981040</td>\n",
       "    </tr>\n",
       "    <tr>\n",
       "      <th>3</th>\n",
       "      <td>NaN</td>\n",
       "    </tr>\n",
       "    <tr>\n",
       "      <th>4</th>\n",
       "      <td>0.991025</td>\n",
       "    </tr>\n",
       "    <tr>\n",
       "      <th>...</th>\n",
       "      <td>...</td>\n",
       "    </tr>\n",
       "    <tr>\n",
       "      <th>18388</th>\n",
       "      <td>NaN</td>\n",
       "    </tr>\n",
       "    <tr>\n",
       "      <th>18389</th>\n",
       "      <td>NaN</td>\n",
       "    </tr>\n",
       "    <tr>\n",
       "      <th>18390</th>\n",
       "      <td>0.976434</td>\n",
       "    </tr>\n",
       "    <tr>\n",
       "      <th>18391</th>\n",
       "      <td>0.887734</td>\n",
       "    </tr>\n",
       "    <tr>\n",
       "      <th>18392</th>\n",
       "      <td>NaN</td>\n",
       "    </tr>\n",
       "  </tbody>\n",
       "</table>\n",
       "<p>18393 rows × 1 columns</p>\n",
       "</div>"
      ],
      "text/plain": [
       "              0\n",
       "0           NaN\n",
       "1           NaN\n",
       "2      0.981040\n",
       "3           NaN\n",
       "4      0.991025\n",
       "...         ...\n",
       "18388       NaN\n",
       "18389       NaN\n",
       "18390  0.976434\n",
       "18391  0.887734\n",
       "18392       NaN\n",
       "\n",
       "[18393 rows x 1 columns]"
      ]
     },
     "execution_count": 129,
     "metadata": {},
     "output_type": "execute_result"
    }
   ],
   "source": []
  },
  {
   "cell_type": "code",
   "execution_count": 104,
   "metadata": {},
   "outputs": [
    {
     "data": {
      "image/png": "[encoded data removed]",
      "text/plain": [
       "<Figure size 432x288 with 1 Axes>"
      ]
     },
     "metadata": {
      "needs_background": "light"
     },
     "output_type": "display_data"
    }
   ],
   "source": [
    "plt.plot(tpr_deep, 1.0-fpr_deep, lw=3, alpha=0.8,\n",
    "        label=\"Test (AUC={:.3f})\".format(auc_deep))\n",
    "plt.plot(tpr_deep_tr, 1.0-fpr_deep_tr, lw=3, alpha=0.8,\n",
    "        label=\"Train (AUC={:.3f})\".format(auc_deep_tr))\n",
    "plt.xlabel(\"Signal efficiency\")\n",
    "plt.ylabel(\"Background rejection\")\n",
    "plt.legend(loc=3)\n",
    "plt.xlim((0.0, 1.0))\n",
    "plt.ylim((0.0, 1.0))\n",
    "plt.savefig(\"HIGGS_roc.png\", bbox_inches=\"tight\")"
   ]
  },
  {
   "cell_type": "code",
   "execution_count": 109,
   "metadata": {},
   "outputs": [],
   "source": [
    "def compare_train_test(clf, X_train, y_train, X_test, y_test, bins=20):\n",
    "    decisions = []\n",
    "    for X,y in ((X_train, y_train), (X_test, y_test)):\n",
    "        #d1 = clf.decision_function(X[y>0.5]).ravel()\n",
    "        #d2 = clf.decision_function(X[y<0.5]).ravel()\n",
    "       # d1 = clf.predict_proba(X[y>0.5]).ravel()\n",
    "       # d2 = clf.predict_proba(X[y<0.5]).ravel()\n",
    "        d1 = clf.predict((preprocessing_input.transform(X_train[:ntrain_evts])[y_train>=0.5]))[:,0].ravel()\n",
    "        d2 = clf.predict((preprocessing_input.transform(X_train[:ntrain_evts])[y_train<0.5]))[:,0].ravel()\n",
    "        decisions += [d1, d2]\n",
    "        \n",
    "    low = min(np.min(d) for d in decisions)\n",
    "    high = max(np.max(d) for d in decisions)\n",
    "    low_high = (low,high)\n",
    "    plt.figure(figsize=(5, 5), dpi=100)\n",
    "    plt.hist(decisions[0],\n",
    "             color='r', alpha=0.7, range=(0,1), bins=bins,\n",
    "             histtype='step', density=True,\n",
    "             label='S (train)')\n",
    "    plt.hist(decisions[1],\n",
    "             color='b', alpha=0.7, range=low_high, bins=bins,\n",
    "             histtype='step', density=True,\n",
    "             label='B (train)')\n",
    "\n",
    "    hist, bins = np.histogram(decisions[2],\n",
    "                              bins=bins, range=(0,1), density=1)\n",
    "    scale = len(decisions[2]) / sum(hist)\n",
    "    err = np.sqrt(hist * scale) / scale\n",
    "    \n",
    "    width = (bins[1] - bins[0])\n",
    "    center = (bins[:-1] + bins[1:]) / 2\n",
    "    plt.errorbar(center, hist, yerr=err, fmt='none', c='r', label='S (test)')\n",
    "    \n",
    "    hist, bins = np.histogram(decisions[3],\n",
    "                              bins=bins, range=low_high, density=1)\n",
    "    scale = len(decisions[2]) / sum(hist)\n",
    "    err = np.sqrt(hist * scale) / scale\n",
    "\n",
    "    plt.errorbar(center, hist, yerr=err, fmt='none', c='b', label='B (test)')\n",
    "\n",
    "    plt.xlabel(\"DNN output\")\n",
    "    plt.ylabel(\"Normalized units\")\n",
    "    plt.legend(loc='best')\n",
    "    plt.savefig(\"DNNoutput.png\", bbox_inches=\"tight\")"
   ]
  },
  {
   "cell_type": "code",
   "execution_count": 110,
   "metadata": {},
   "outputs": [
    {
     "data": {
      "image/png": "[encoded data removed]",
      "text/plain": [
       "<Figure size 500x500 with 1 Axes>"
      ]
     },
     "metadata": {
      "needs_background": "light"
     },
     "output_type": "display_data"
    }
   ],
   "source": [
    "compare_train_test(model_deep,X_train,y_train,X_test,y_test)"
   ]
  },
  {
   "cell_type": "code",
   "execution_count": null,
   "metadata": {},
   "outputs": [],
   "source": []
  }
 ],
 "metadata": {
  "kernelspec": {
   "display_name": "Python 3",
   "language": "python",
   "name": "python3"
  },
  "language_info": {
   "codemirror_mode": {
    "name": "ipython",
    "version": 3
   },
   "file_extension": ".py",
   "mimetype": "text/x-python",
   "name": "python",
   "nbconvert_exporter": "python",
   "pygments_lexer": "ipython3",
   "version": "3.7.6"
  }
 },
 "nbformat": 4,
 "nbformat_minor": 4
}
